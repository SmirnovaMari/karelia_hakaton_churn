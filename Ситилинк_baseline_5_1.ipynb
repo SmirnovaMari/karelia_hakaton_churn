{
 "cells": [
  {
   "cell_type": "markdown",
   "metadata": {
    "id": "FH0ZYdNyQzug"
   },
   "source": [
    "## Загрузим нужные библиотеки"
   ]
  },
  {
   "cell_type": "code",
   "execution_count": 1,
   "metadata": {
    "id": "BwNGqMidQiRi"
   },
   "outputs": [],
   "source": [
    "import pandas as pd\n",
    "import seaborn as sns\n",
    "import matplotlib.pyplot as plt\n",
    "import numpy as np\n",
    "from sklearn.model_selection import train_test_split\n",
    "from sklearn.ensemble import RandomForestClassifier\n",
    "\n",
    "\n",
    "%matplotlib inline"
   ]
  },
  {
   "cell_type": "code",
   "execution_count": 2,
   "metadata": {
    "id": "3TZUcuZ33rM5"
   },
   "outputs": [],
   "source": [
    "df_train = pd.read_csv(\"train_dataset_train.csv\")\n",
    "df_sample_solution = pd.read_csv(\"sample_solution.csv\")\n",
    "\n",
    "df_named = pd.read_csv(\"named.csv\")\n",
    "df_type_contract = pd.read_csv(\"type_contract.csv\")\n",
    "df_log = pd.read_csv(\"log.csv\")"
   ]
  },
  {
   "cell_type": "markdown",
   "metadata": {
    "id": "GywlangPRAEm"
   },
   "source": [
    "## Рассмотрим датасет по ближе"
   ]
  },
  {
   "cell_type": "code",
   "execution_count": 3,
   "metadata": {
    "colab": {
     "base_uri": "https://localhost:8080/",
     "height": 143
    },
    "id": "gvcl_K3FQ-os",
    "outputId": "60b23c0d-9d87-493c-9f1e-8fbb6b53f79c"
   },
   "outputs": [
    {
     "data": {
      "text/html": [
       "<div>\n",
       "<style scoped>\n",
       "    .dataframe tbody tr th:only-of-type {\n",
       "        vertical-align: middle;\n",
       "    }\n",
       "\n",
       "    .dataframe tbody tr th {\n",
       "        vertical-align: top;\n",
       "    }\n",
       "\n",
       "    .dataframe thead th {\n",
       "        text-align: right;\n",
       "    }\n",
       "</style>\n",
       "<table border=\"1\" class=\"dataframe\">\n",
       "  <thead>\n",
       "    <tr style=\"text-align: right;\">\n",
       "      <th></th>\n",
       "      <th>contract_id</th>\n",
       "      <th>blocked</th>\n",
       "    </tr>\n",
       "  </thead>\n",
       "  <tbody>\n",
       "    <tr>\n",
       "      <th>0</th>\n",
       "      <td>7780</td>\n",
       "      <td>0</td>\n",
       "    </tr>\n",
       "    <tr>\n",
       "      <th>1</th>\n",
       "      <td>7785</td>\n",
       "      <td>0</td>\n",
       "    </tr>\n",
       "    <tr>\n",
       "      <th>2</th>\n",
       "      <td>7794</td>\n",
       "      <td>0</td>\n",
       "    </tr>\n",
       "  </tbody>\n",
       "</table>\n",
       "</div>"
      ],
      "text/plain": [
       "   contract_id  blocked\n",
       "0         7780        0\n",
       "1         7785        0\n",
       "2         7794        0"
      ]
     },
     "execution_count": 3,
     "metadata": {},
     "output_type": "execute_result"
    }
   ],
   "source": [
    "df_train.head(3)"
   ]
  },
  {
   "cell_type": "code",
   "execution_count": 4,
   "metadata": {},
   "outputs": [
    {
     "name": "stdout",
     "output_type": "stream",
     "text": [
      "<class 'pandas.core.frame.DataFrame'>\n",
      "RangeIndex: 5992 entries, 0 to 5991\n",
      "Data columns (total 2 columns):\n",
      " #   Column       Non-Null Count  Dtype\n",
      "---  ------       --------------  -----\n",
      " 0   contract_id  5992 non-null   int64\n",
      " 1   blocked      5992 non-null   int64\n",
      "dtypes: int64(2)\n",
      "memory usage: 93.8 KB\n"
     ]
    }
   ],
   "source": [
    "df_train.info()"
   ]
  },
  {
   "cell_type": "code",
   "execution_count": 5,
   "metadata": {
    "colab": {
     "base_uri": "https://localhost:8080/",
     "height": 143
    },
    "id": "zb9qIPOq4I-0",
    "outputId": "66b49abb-11d3-4e18-c14b-dcdef4396882"
   },
   "outputs": [
    {
     "name": "stdout",
     "output_type": "stream",
     "text": [
      "<class 'pandas.core.frame.DataFrame'>\n",
      "RangeIndex: 10646537 entries, 0 to 10646536\n",
      "Data columns (total 3 columns):\n",
      " #   Column       Dtype \n",
      "---  ------       ----- \n",
      " 0   date         object\n",
      " 1   url          object\n",
      " 2   contract_id  int64 \n",
      "dtypes: int64(1), object(2)\n",
      "memory usage: 243.7+ MB\n"
     ]
    }
   ],
   "source": [
    "df_named.info()"
   ]
  },
  {
   "cell_type": "code",
   "execution_count": 6,
   "metadata": {
    "colab": {
     "base_uri": "https://localhost:8080/",
     "height": 143
    },
    "id": "ih0T_woR4bhP",
    "outputId": "3e2e9333-6f2f-4506-d014-ddeff5151de9"
   },
   "outputs": [
    {
     "data": {
      "text/html": [
       "<div>\n",
       "<style scoped>\n",
       "    .dataframe tbody tr th:only-of-type {\n",
       "        vertical-align: middle;\n",
       "    }\n",
       "\n",
       "    .dataframe tbody tr th {\n",
       "        vertical-align: top;\n",
       "    }\n",
       "\n",
       "    .dataframe thead th {\n",
       "        text-align: right;\n",
       "    }\n",
       "</style>\n",
       "<table border=\"1\" class=\"dataframe\">\n",
       "  <thead>\n",
       "    <tr style=\"text-align: right;\">\n",
       "      <th></th>\n",
       "      <th>contract_id</th>\n",
       "      <th>day_or_month_contract</th>\n",
       "    </tr>\n",
       "  </thead>\n",
       "  <tbody>\n",
       "    <tr>\n",
       "      <th>0</th>\n",
       "      <td>7780</td>\n",
       "      <td>0</td>\n",
       "    </tr>\n",
       "    <tr>\n",
       "      <th>1</th>\n",
       "      <td>3996</td>\n",
       "      <td>0</td>\n",
       "    </tr>\n",
       "    <tr>\n",
       "      <th>2</th>\n",
       "      <td>7785</td>\n",
       "      <td>0</td>\n",
       "    </tr>\n",
       "  </tbody>\n",
       "</table>\n",
       "</div>"
      ],
      "text/plain": [
       "   contract_id  day_or_month_contract\n",
       "0         7780                      0\n",
       "1         3996                      0\n",
       "2         7785                      0"
      ]
     },
     "execution_count": 6,
     "metadata": {},
     "output_type": "execute_result"
    }
   ],
   "source": [
    "df_type_contract.head(3)"
   ]
  },
  {
   "cell_type": "code",
   "execution_count": 7,
   "metadata": {
    "colab": {
     "base_uri": "https://localhost:8080/",
     "height": 143
    },
    "id": "jE8r6sYMUB6w",
    "outputId": "66a03108-6d34-4ff8-d255-6a5cffa28eba"
   },
   "outputs": [
    {
     "data": {
      "text/html": [
       "<div>\n",
       "<style scoped>\n",
       "    .dataframe tbody tr th:only-of-type {\n",
       "        vertical-align: middle;\n",
       "    }\n",
       "\n",
       "    .dataframe tbody tr th {\n",
       "        vertical-align: top;\n",
       "    }\n",
       "\n",
       "    .dataframe thead th {\n",
       "        text-align: right;\n",
       "    }\n",
       "</style>\n",
       "<table border=\"1\" class=\"dataframe\">\n",
       "  <thead>\n",
       "    <tr style=\"text-align: right;\">\n",
       "      <th></th>\n",
       "      <th>contract_id</th>\n",
       "      <th>event_date</th>\n",
       "      <th>event_type</th>\n",
       "    </tr>\n",
       "  </thead>\n",
       "  <tbody>\n",
       "    <tr>\n",
       "      <th>0</th>\n",
       "      <td>36294</td>\n",
       "      <td>2021-03-28 16:24:30</td>\n",
       "      <td>Добавление в Обращались с номеров</td>\n",
       "    </tr>\n",
       "    <tr>\n",
       "      <th>1</th>\n",
       "      <td>36294</td>\n",
       "      <td>2021-03-28 16:27:41</td>\n",
       "      <td>Обращение в службу заботы о клиентах</td>\n",
       "    </tr>\n",
       "    <tr>\n",
       "      <th>2</th>\n",
       "      <td>36294</td>\n",
       "      <td>2021-03-28 16:29:56</td>\n",
       "      <td>Выключение IPTV-пакета</td>\n",
       "    </tr>\n",
       "    <tr>\n",
       "      <th>3</th>\n",
       "      <td>36294</td>\n",
       "      <td>2021-03-28 16:29:56</td>\n",
       "      <td>Включение IPTV-пакета</td>\n",
       "    </tr>\n",
       "    <tr>\n",
       "      <th>4</th>\n",
       "      <td>36294</td>\n",
       "      <td>2021-03-28 16:35:04</td>\n",
       "      <td>Обращение в службу заботы о клиентах</td>\n",
       "    </tr>\n",
       "  </tbody>\n",
       "</table>\n",
       "</div>"
      ],
      "text/plain": [
       "   contract_id           event_date                            event_type\n",
       "0        36294  2021-03-28 16:24:30     Добавление в Обращались с номеров\n",
       "1        36294  2021-03-28 16:27:41  Обращение в службу заботы о клиентах\n",
       "2        36294  2021-03-28 16:29:56                Выключение IPTV-пакета\n",
       "3        36294  2021-03-28 16:29:56                 Включение IPTV-пакета\n",
       "4        36294  2021-03-28 16:35:04  Обращение в службу заботы о клиентах"
      ]
     },
     "execution_count": 7,
     "metadata": {},
     "output_type": "execute_result"
    }
   ],
   "source": [
    "df_log.head()"
   ]
  },
  {
   "cell_type": "code",
   "execution_count": 8,
   "metadata": {},
   "outputs": [
    {
     "data": {
      "image/png": "[encoded data removed]",
      "text/plain": [
       "<Figure size 432x288 with 1 Axes>"
      ]
     },
     "metadata": {
      "needs_background": "light"
     },
     "output_type": "display_data"
    }
   ],
   "source": [
    "#Посмотрим на распределение целевой переменной\n",
    "df_train['blocked'].value_counts().plot.bar(figsize=(6, 4))\n",
    "plt.grid(axis='y')"
   ]
  },
  {
   "cell_type": "markdown",
   "metadata": {},
   "source": [
    "**из графика мы видим, что в представленном датасете существует большой дисбаланс классов целевой переменной, учтем это при построении модели**"
   ]
  },
  {
   "cell_type": "code",
   "execution_count": 9,
   "metadata": {},
   "outputs": [
    {
     "data": {
      "text/html": [
       "<div>\n",
       "<style scoped>\n",
       "    .dataframe tbody tr th:only-of-type {\n",
       "        vertical-align: middle;\n",
       "    }\n",
       "\n",
       "    .dataframe tbody tr th {\n",
       "        vertical-align: top;\n",
       "    }\n",
       "\n",
       "    .dataframe thead th {\n",
       "        text-align: right;\n",
       "    }\n",
       "</style>\n",
       "<table border=\"1\" class=\"dataframe\">\n",
       "  <thead>\n",
       "    <tr style=\"text-align: right;\">\n",
       "      <th></th>\n",
       "      <th>contract_id</th>\n",
       "      <th>event_date</th>\n",
       "      <th>event_type</th>\n",
       "    </tr>\n",
       "  </thead>\n",
       "  <tbody>\n",
       "    <tr>\n",
       "      <th>0</th>\n",
       "      <td>36294</td>\n",
       "      <td>21-03-28</td>\n",
       "      <td>Добавление в Обращались с номеров</td>\n",
       "    </tr>\n",
       "    <tr>\n",
       "      <th>1</th>\n",
       "      <td>36294</td>\n",
       "      <td>21-03-28</td>\n",
       "      <td>Обращение в службу заботы о клиентах</td>\n",
       "    </tr>\n",
       "    <tr>\n",
       "      <th>2</th>\n",
       "      <td>36294</td>\n",
       "      <td>21-03-28</td>\n",
       "      <td>Выключение IPTV-пакета</td>\n",
       "    </tr>\n",
       "    <tr>\n",
       "      <th>3</th>\n",
       "      <td>36294</td>\n",
       "      <td>21-03-28</td>\n",
       "      <td>Включение IPTV-пакета</td>\n",
       "    </tr>\n",
       "    <tr>\n",
       "      <th>4</th>\n",
       "      <td>36294</td>\n",
       "      <td>21-03-28</td>\n",
       "      <td>Обращение в службу заботы о клиентах</td>\n",
       "    </tr>\n",
       "  </tbody>\n",
       "</table>\n",
       "</div>"
      ],
      "text/plain": [
       "   contract_id event_date                            event_type\n",
       "0        36294   21-03-28     Добавление в Обращались с номеров\n",
       "1        36294   21-03-28  Обращение в службу заботы о клиентах\n",
       "2        36294   21-03-28                Выключение IPTV-пакета\n",
       "3        36294   21-03-28                 Включение IPTV-пакета\n",
       "4        36294   21-03-28  Обращение в службу заботы о клиентах"
      ]
     },
     "execution_count": 9,
     "metadata": {},
     "output_type": "execute_result"
    }
   ],
   "source": [
    "#оставим для даты день, месяц и год обращения\n",
    "df_log['event_date'] = pd.to_datetime(df_log['event_date'])\n",
    "df_log['event_date'] = df_log['event_date'].dt.strftime('%y-%m-%d')\n",
    "df_log.head()"
   ]
  },
  {
   "cell_type": "code",
   "execution_count": 10,
   "metadata": {},
   "outputs": [],
   "source": [
    "#выделим в отдельные датафреймы наиболее важные обращения\n",
    "df_log3 = df_log.query('event_type == \"Обращение в службу заботы о клиентах\"')\n",
    "df_log4 = df_log.query('event_type == \"Включена 20% скидка\"')\n",
    "df_log5 = df_log.query('event_type == \"Возвращение клиента\"')\n",
    "df_log6 = df_log.query('event_type == \"Изменение схемы оплаты\"')\n",
    "df_log7 = df_log.query('event_type == \"Предложение ТВ-пакета\"')"
   ]
  },
  {
   "cell_type": "code",
   "execution_count": 11,
   "metadata": {},
   "outputs": [],
   "source": [
    "#df_log.info()"
   ]
  },
  {
   "cell_type": "code",
   "execution_count": 12,
   "metadata": {},
   "outputs": [],
   "source": [
    "#найдем время первого и последнего обращения для каждого клиента\n",
    "df_log_time_max = df_log.groupby(\"contract_id\")['event_date'].max()\n",
    "df_log_time_min = df_log.groupby(\"contract_id\")['event_date'].min()"
   ]
  },
  {
   "cell_type": "code",
   "execution_count": 13,
   "metadata": {},
   "outputs": [],
   "source": [
    "df_named['date'] = pd.to_datetime(df_named['date'])"
   ]
  },
  {
   "cell_type": "code",
   "execution_count": 14,
   "metadata": {},
   "outputs": [
    {
     "name": "stdout",
     "output_type": "stream",
     "text": [
      "Wall time: 2min 2s\n"
     ]
    },
    {
     "data": {
      "text/plain": [
       "0    21-04-17\n",
       "1    21-04-17\n",
       "2    21-04-17\n",
       "Name: date, dtype: object"
      ]
     },
     "execution_count": 14,
     "metadata": {},
     "output_type": "execute_result"
    }
   ],
   "source": [
    "%%time\n",
    "df_named['date'] = df_named['date'].dt.strftime('%y-%m-%d')\n",
    "df_named['date'].head(3)"
   ]
  },
  {
   "cell_type": "code",
   "execution_count": 15,
   "metadata": {},
   "outputs": [],
   "source": [
    "#найдем время первого и последнего обращения к конкурентам\n",
    "df_named_max = df_named.groupby(\"contract_id\")['date'].max()\n",
    "df_named_min = df_named.groupby(\"contract_id\")['date'].min()"
   ]
  },
  {
   "cell_type": "markdown",
   "metadata": {
    "id": "aOJlHpEn52mz"
   },
   "source": [
    "Узнаем размерность наборов"
   ]
  },
  {
   "cell_type": "code",
   "execution_count": 16,
   "metadata": {
    "colab": {
     "base_uri": "https://localhost:8080/"
    },
    "id": "uAIT-vwLUI0z",
    "outputId": "910d383c-19b3-40b5-a392-0c40c3ec2e2a"
   },
   "outputs": [
    {
     "name": "stdout",
     "output_type": "stream",
     "text": [
      "df_train (5992, 2)\n",
      "df_named (10646537, 3)\n",
      "df_sample_solution (810, 2)\n",
      "df_type_contract (6805, 2)\n",
      "df_log (25274, 3)\n"
     ]
    }
   ],
   "source": [
    "print(\"df_train\", df_train.shape)\n",
    "print(\"df_named\", df_named.shape)\n",
    "print(\"df_sample_solution\", df_sample_solution.shape)\n",
    "print(\"df_type_contract\", df_type_contract.shape)\n",
    "print(\"df_log\", df_log.shape)"
   ]
  },
  {
   "cell_type": "markdown",
   "metadata": {
    "id": "ws9AgKjiA7Jd"
   },
   "source": [
    "### Видоизмение данных"
   ]
  },
  {
   "cell_type": "markdown",
   "metadata": {
    "id": "96OuAK1rBBTK"
   },
   "source": [
    "Обьединим два набора с данными"
   ]
  },
  {
   "cell_type": "code",
   "execution_count": 17,
   "metadata": {},
   "outputs": [
    {
     "data": {
      "text/html": [
       "<div>\n",
       "<style scoped>\n",
       "    .dataframe tbody tr th:only-of-type {\n",
       "        vertical-align: middle;\n",
       "    }\n",
       "\n",
       "    .dataframe tbody tr th {\n",
       "        vertical-align: top;\n",
       "    }\n",
       "\n",
       "    .dataframe thead th {\n",
       "        text-align: right;\n",
       "    }\n",
       "</style>\n",
       "<table border=\"1\" class=\"dataframe\">\n",
       "  <thead>\n",
       "    <tr style=\"text-align: right;\">\n",
       "      <th></th>\n",
       "      <th>contract_id</th>\n",
       "      <th>blocked</th>\n",
       "      <th>day_or_month_contract</th>\n",
       "    </tr>\n",
       "  </thead>\n",
       "  <tbody>\n",
       "    <tr>\n",
       "      <th>0</th>\n",
       "      <td>7780</td>\n",
       "      <td>0</td>\n",
       "      <td>0.0</td>\n",
       "    </tr>\n",
       "    <tr>\n",
       "      <th>1</th>\n",
       "      <td>7785</td>\n",
       "      <td>0</td>\n",
       "      <td>0.0</td>\n",
       "    </tr>\n",
       "    <tr>\n",
       "      <th>2</th>\n",
       "      <td>7794</td>\n",
       "      <td>0</td>\n",
       "      <td>0.0</td>\n",
       "    </tr>\n",
       "  </tbody>\n",
       "</table>\n",
       "</div>"
      ],
      "text/plain": [
       "   contract_id  blocked  day_or_month_contract\n",
       "0         7780        0                    0.0\n",
       "1         7785        0                    0.0\n",
       "2         7794        0                    0.0"
      ]
     },
     "execution_count": 17,
     "metadata": {},
     "output_type": "execute_result"
    }
   ],
   "source": [
    "df_train = pd.merge(df_train, df_type_contract , on=\"contract_id\", how='left').drop_duplicates(subset=\"contract_id\")\n",
    "\n",
    "df_train.head(3)"
   ]
  },
  {
   "cell_type": "code",
   "execution_count": 18,
   "metadata": {},
   "outputs": [
    {
     "data": {
      "text/plain": [
       "Text(0.5, 1.0, 'Распределение предсказываемой величены')"
      ]
     },
     "execution_count": 18,
     "metadata": {},
     "output_type": "execute_result"
    },
    {
     "data": {
      "image/png": "[encoded data removed]",
      "text/plain": [
       "<Figure size 576x360 with 1 Axes>"
      ]
     },
     "metadata": {
      "needs_background": "light"
     },
     "output_type": "display_data"
    }
   ],
   "source": [
    "#посмотрим на распределение целевой переменной в зависимости от вида контракта\n",
    "plt.rcParams['figure.figsize'] = 8, 5\n",
    "sns.countplot(x = \"blocked\" , data  = df_train.query('day_or_month_contract == 1.0')).set_title('Распределение предсказываемой величены')"
   ]
  },
  {
   "cell_type": "markdown",
   "metadata": {
    "id": "4sWW6YB_BRiF"
   },
   "source": [
    "Добавим столбец - колличество обращений человека"
   ]
  },
  {
   "cell_type": "code",
   "execution_count": 19,
   "metadata": {
    "colab": {
     "base_uri": "https://localhost:8080/",
     "height": 175
    },
    "id": "d23YUHBeBcQ-",
    "outputId": "627b075d-26d1-4e5d-c3c5-73264c7e52e3"
   },
   "outputs": [
    {
     "data": {
      "text/html": [
       "<div>\n",
       "<style scoped>\n",
       "    .dataframe tbody tr th:only-of-type {\n",
       "        vertical-align: middle;\n",
       "    }\n",
       "\n",
       "    .dataframe tbody tr th {\n",
       "        vertical-align: top;\n",
       "    }\n",
       "\n",
       "    .dataframe thead th {\n",
       "        text-align: right;\n",
       "    }\n",
       "</style>\n",
       "<table border=\"1\" class=\"dataframe\">\n",
       "  <thead>\n",
       "    <tr style=\"text-align: right;\">\n",
       "      <th></th>\n",
       "      <th>event_date</th>\n",
       "      <th>event_type</th>\n",
       "    </tr>\n",
       "    <tr>\n",
       "      <th>contract_id</th>\n",
       "      <th></th>\n",
       "      <th></th>\n",
       "    </tr>\n",
       "  </thead>\n",
       "  <tbody>\n",
       "    <tr>\n",
       "      <th>3453</th>\n",
       "      <td>1</td>\n",
       "      <td>1</td>\n",
       "    </tr>\n",
       "    <tr>\n",
       "      <th>3454</th>\n",
       "      <td>1</td>\n",
       "      <td>1</td>\n",
       "    </tr>\n",
       "    <tr>\n",
       "      <th>3456</th>\n",
       "      <td>4</td>\n",
       "      <td>4</td>\n",
       "    </tr>\n",
       "  </tbody>\n",
       "</table>\n",
       "</div>"
      ],
      "text/plain": [
       "             event_date  event_type\n",
       "contract_id                        \n",
       "3453                  1           1\n",
       "3454                  1           1\n",
       "3456                  4           4"
      ]
     },
     "execution_count": 19,
     "metadata": {},
     "output_type": "execute_result"
    }
   ],
   "source": [
    "count_log = df_log.groupby(\"contract_id\").count()\n",
    "\n",
    "count_log.head(3)"
   ]
  },
  {
   "cell_type": "code",
   "execution_count": 20,
   "metadata": {
    "id": "gUWtNYN4BO7B"
   },
   "outputs": [],
   "source": [
    "df_train = pd.merge(df_train, count_log , on=\"contract_id\", how='left').drop([\"event_type\"],axis =1)"
   ]
  },
  {
   "cell_type": "code",
   "execution_count": 21,
   "metadata": {},
   "outputs": [
    {
     "data": {
      "text/html": [
       "<div>\n",
       "<style scoped>\n",
       "    .dataframe tbody tr th:only-of-type {\n",
       "        vertical-align: middle;\n",
       "    }\n",
       "\n",
       "    .dataframe tbody tr th {\n",
       "        vertical-align: top;\n",
       "    }\n",
       "\n",
       "    .dataframe thead th {\n",
       "        text-align: right;\n",
       "    }\n",
       "</style>\n",
       "<table border=\"1\" class=\"dataframe\">\n",
       "  <thead>\n",
       "    <tr style=\"text-align: right;\">\n",
       "      <th></th>\n",
       "      <th>contract_id</th>\n",
       "      <th>blocked</th>\n",
       "      <th>day_or_month_contract</th>\n",
       "      <th>event_date</th>\n",
       "    </tr>\n",
       "  </thead>\n",
       "  <tbody>\n",
       "    <tr>\n",
       "      <th>0</th>\n",
       "      <td>7780</td>\n",
       "      <td>0</td>\n",
       "      <td>0.0</td>\n",
       "      <td>9.0</td>\n",
       "    </tr>\n",
       "    <tr>\n",
       "      <th>1</th>\n",
       "      <td>7785</td>\n",
       "      <td>0</td>\n",
       "      <td>0.0</td>\n",
       "      <td>1.0</td>\n",
       "    </tr>\n",
       "    <tr>\n",
       "      <th>2</th>\n",
       "      <td>7794</td>\n",
       "      <td>0</td>\n",
       "      <td>0.0</td>\n",
       "      <td>NaN</td>\n",
       "    </tr>\n",
       "  </tbody>\n",
       "</table>\n",
       "</div>"
      ],
      "text/plain": [
       "   contract_id  blocked  day_or_month_contract  event_date\n",
       "0         7780        0                    0.0         9.0\n",
       "1         7785        0                    0.0         1.0\n",
       "2         7794        0                    0.0         NaN"
      ]
     },
     "execution_count": 21,
     "metadata": {},
     "output_type": "execute_result"
    }
   ],
   "source": [
    "df_train.head(3)"
   ]
  },
  {
   "cell_type": "code",
   "execution_count": 22,
   "metadata": {},
   "outputs": [],
   "source": [
    "df_train.rename(columns={'event_date': 'коичество обращений'}, inplace=True)"
   ]
  },
  {
   "cell_type": "markdown",
   "metadata": {},
   "source": [
    "добавим количество обращений к конкурентам"
   ]
  },
  {
   "cell_type": "code",
   "execution_count": 23,
   "metadata": {},
   "outputs": [
    {
     "data": {
      "text/html": [
       "<div>\n",
       "<style scoped>\n",
       "    .dataframe tbody tr th:only-of-type {\n",
       "        vertical-align: middle;\n",
       "    }\n",
       "\n",
       "    .dataframe tbody tr th {\n",
       "        vertical-align: top;\n",
       "    }\n",
       "\n",
       "    .dataframe thead th {\n",
       "        text-align: right;\n",
       "    }\n",
       "</style>\n",
       "<table border=\"1\" class=\"dataframe\">\n",
       "  <thead>\n",
       "    <tr style=\"text-align: right;\">\n",
       "      <th></th>\n",
       "      <th>date</th>\n",
       "      <th>url</th>\n",
       "    </tr>\n",
       "    <tr>\n",
       "      <th>contract_id</th>\n",
       "      <th></th>\n",
       "      <th></th>\n",
       "    </tr>\n",
       "  </thead>\n",
       "  <tbody>\n",
       "    <tr>\n",
       "      <th>3455</th>\n",
       "      <td>24</td>\n",
       "      <td>24</td>\n",
       "    </tr>\n",
       "    <tr>\n",
       "      <th>3458</th>\n",
       "      <td>1</td>\n",
       "      <td>1</td>\n",
       "    </tr>\n",
       "    <tr>\n",
       "      <th>3459</th>\n",
       "      <td>2</td>\n",
       "      <td>2</td>\n",
       "    </tr>\n",
       "  </tbody>\n",
       "</table>\n",
       "</div>"
      ],
      "text/plain": [
       "             date  url\n",
       "contract_id           \n",
       "3455           24   24\n",
       "3458            1    1\n",
       "3459            2    2"
      ]
     },
     "execution_count": 23,
     "metadata": {},
     "output_type": "execute_result"
    }
   ],
   "source": [
    "count_competitors = df_named.groupby(\"contract_id\").count()\n",
    "\n",
    "count_competitors.head(3)"
   ]
  },
  {
   "cell_type": "code",
   "execution_count": 24,
   "metadata": {},
   "outputs": [
    {
     "data": {
      "text/html": [
       "<div>\n",
       "<style scoped>\n",
       "    .dataframe tbody tr th:only-of-type {\n",
       "        vertical-align: middle;\n",
       "    }\n",
       "\n",
       "    .dataframe tbody tr th {\n",
       "        vertical-align: top;\n",
       "    }\n",
       "\n",
       "    .dataframe thead th {\n",
       "        text-align: right;\n",
       "    }\n",
       "</style>\n",
       "<table border=\"1\" class=\"dataframe\">\n",
       "  <thead>\n",
       "    <tr style=\"text-align: right;\">\n",
       "      <th></th>\n",
       "      <th>contract_id</th>\n",
       "      <th>blocked</th>\n",
       "      <th>day_or_month_contract</th>\n",
       "      <th>коичество обращений</th>\n",
       "      <th>url</th>\n",
       "    </tr>\n",
       "  </thead>\n",
       "  <tbody>\n",
       "    <tr>\n",
       "      <th>0</th>\n",
       "      <td>7780</td>\n",
       "      <td>0</td>\n",
       "      <td>0.0</td>\n",
       "      <td>9.0</td>\n",
       "      <td>83.0</td>\n",
       "    </tr>\n",
       "    <tr>\n",
       "      <th>1</th>\n",
       "      <td>7785</td>\n",
       "      <td>0</td>\n",
       "      <td>0.0</td>\n",
       "      <td>1.0</td>\n",
       "      <td>10.0</td>\n",
       "    </tr>\n",
       "    <tr>\n",
       "      <th>2</th>\n",
       "      <td>7794</td>\n",
       "      <td>0</td>\n",
       "      <td>0.0</td>\n",
       "      <td>NaN</td>\n",
       "      <td>NaN</td>\n",
       "    </tr>\n",
       "  </tbody>\n",
       "</table>\n",
       "</div>"
      ],
      "text/plain": [
       "   contract_id  blocked  day_or_month_contract  коичество обращений   url\n",
       "0         7780        0                    0.0                  9.0  83.0\n",
       "1         7785        0                    0.0                  1.0  10.0\n",
       "2         7794        0                    0.0                  NaN   NaN"
      ]
     },
     "execution_count": 24,
     "metadata": {},
     "output_type": "execute_result"
    }
   ],
   "source": [
    "df_train = pd.merge(df_train, count_competitors , on=\"contract_id\", how='left').drop([\"date\"],axis =1)\n",
    "df_train.head(3)"
   ]
  },
  {
   "cell_type": "markdown",
   "metadata": {},
   "source": [
    "Добавим количество некоторых типов типов обращений"
   ]
  },
  {
   "cell_type": "code",
   "execution_count": 25,
   "metadata": {},
   "outputs": [],
   "source": [
    "count_event = df_log3.groupby(\"contract_id\")['event_type'].count()\n",
    "count_event4 = df_log4.groupby(\"contract_id\")['event_type'].count()\n",
    "count_event5 = df_log5.groupby(\"contract_id\")['event_type'].count()\n",
    "count_event6 = df_log6.groupby(\"contract_id\")['event_type'].count()\n",
    "count_event7 = df_log7.groupby(\"contract_id\")['event_type'].count()"
   ]
  },
  {
   "cell_type": "code",
   "execution_count": 26,
   "metadata": {},
   "outputs": [
    {
     "data": {
      "text/html": [
       "<div>\n",
       "<style scoped>\n",
       "    .dataframe tbody tr th:only-of-type {\n",
       "        vertical-align: middle;\n",
       "    }\n",
       "\n",
       "    .dataframe tbody tr th {\n",
       "        vertical-align: top;\n",
       "    }\n",
       "\n",
       "    .dataframe thead th {\n",
       "        text-align: right;\n",
       "    }\n",
       "</style>\n",
       "<table border=\"1\" class=\"dataframe\">\n",
       "  <thead>\n",
       "    <tr style=\"text-align: right;\">\n",
       "      <th></th>\n",
       "      <th>contract_id</th>\n",
       "      <th>blocked</th>\n",
       "      <th>day_or_month_contract</th>\n",
       "      <th>коичество обращений</th>\n",
       "      <th>url</th>\n",
       "      <th>event_type</th>\n",
       "    </tr>\n",
       "  </thead>\n",
       "  <tbody>\n",
       "    <tr>\n",
       "      <th>0</th>\n",
       "      <td>7780</td>\n",
       "      <td>0</td>\n",
       "      <td>0.0</td>\n",
       "      <td>9.0</td>\n",
       "      <td>83.0</td>\n",
       "      <td>3.0</td>\n",
       "    </tr>\n",
       "    <tr>\n",
       "      <th>1</th>\n",
       "      <td>7785</td>\n",
       "      <td>0</td>\n",
       "      <td>0.0</td>\n",
       "      <td>1.0</td>\n",
       "      <td>10.0</td>\n",
       "      <td>NaN</td>\n",
       "    </tr>\n",
       "    <tr>\n",
       "      <th>2</th>\n",
       "      <td>7794</td>\n",
       "      <td>0</td>\n",
       "      <td>0.0</td>\n",
       "      <td>NaN</td>\n",
       "      <td>NaN</td>\n",
       "      <td>NaN</td>\n",
       "    </tr>\n",
       "  </tbody>\n",
       "</table>\n",
       "</div>"
      ],
      "text/plain": [
       "   contract_id  blocked  day_or_month_contract  коичество обращений   url  \\\n",
       "0         7780        0                    0.0                  9.0  83.0   \n",
       "1         7785        0                    0.0                  1.0  10.0   \n",
       "2         7794        0                    0.0                  NaN   NaN   \n",
       "\n",
       "   event_type  \n",
       "0         3.0  \n",
       "1         NaN  \n",
       "2         NaN  "
      ]
     },
     "execution_count": 26,
     "metadata": {},
     "output_type": "execute_result"
    }
   ],
   "source": [
    "df_train = pd.merge(df_train, count_event, on=\"contract_id\", how='left')\n",
    "df_train.head(3)"
   ]
  },
  {
   "cell_type": "code",
   "execution_count": 27,
   "metadata": {},
   "outputs": [],
   "source": [
    "df_train.rename(columns={'event_type': 'обращение в службу заботы'}, inplace=True)"
   ]
  },
  {
   "cell_type": "code",
   "execution_count": 28,
   "metadata": {},
   "outputs": [
    {
     "data": {
      "text/html": [
       "<div>\n",
       "<style scoped>\n",
       "    .dataframe tbody tr th:only-of-type {\n",
       "        vertical-align: middle;\n",
       "    }\n",
       "\n",
       "    .dataframe tbody tr th {\n",
       "        vertical-align: top;\n",
       "    }\n",
       "\n",
       "    .dataframe thead th {\n",
       "        text-align: right;\n",
       "    }\n",
       "</style>\n",
       "<table border=\"1\" class=\"dataframe\">\n",
       "  <thead>\n",
       "    <tr style=\"text-align: right;\">\n",
       "      <th></th>\n",
       "      <th>contract_id</th>\n",
       "      <th>blocked</th>\n",
       "      <th>day_or_month_contract</th>\n",
       "      <th>коичество обращений</th>\n",
       "      <th>url</th>\n",
       "      <th>обращение в службу заботы</th>\n",
       "      <th>event_type</th>\n",
       "    </tr>\n",
       "  </thead>\n",
       "  <tbody>\n",
       "    <tr>\n",
       "      <th>0</th>\n",
       "      <td>7780</td>\n",
       "      <td>0</td>\n",
       "      <td>0.0</td>\n",
       "      <td>9.0</td>\n",
       "      <td>83.0</td>\n",
       "      <td>3.0</td>\n",
       "      <td>NaN</td>\n",
       "    </tr>\n",
       "    <tr>\n",
       "      <th>1</th>\n",
       "      <td>7785</td>\n",
       "      <td>0</td>\n",
       "      <td>0.0</td>\n",
       "      <td>1.0</td>\n",
       "      <td>10.0</td>\n",
       "      <td>NaN</td>\n",
       "      <td>NaN</td>\n",
       "    </tr>\n",
       "    <tr>\n",
       "      <th>2</th>\n",
       "      <td>7794</td>\n",
       "      <td>0</td>\n",
       "      <td>0.0</td>\n",
       "      <td>NaN</td>\n",
       "      <td>NaN</td>\n",
       "      <td>NaN</td>\n",
       "      <td>NaN</td>\n",
       "    </tr>\n",
       "  </tbody>\n",
       "</table>\n",
       "</div>"
      ],
      "text/plain": [
       "   contract_id  blocked  day_or_month_contract  коичество обращений   url  \\\n",
       "0         7780        0                    0.0                  9.0  83.0   \n",
       "1         7785        0                    0.0                  1.0  10.0   \n",
       "2         7794        0                    0.0                  NaN   NaN   \n",
       "\n",
       "   обращение в службу заботы  event_type  \n",
       "0                        3.0         NaN  \n",
       "1                        NaN         NaN  \n",
       "2                        NaN         NaN  "
      ]
     },
     "execution_count": 28,
     "metadata": {},
     "output_type": "execute_result"
    }
   ],
   "source": [
    "df_train = pd.merge(df_train, count_event4, on=\"contract_id\", how='left')\n",
    "df_train.head(3)"
   ]
  },
  {
   "cell_type": "code",
   "execution_count": 29,
   "metadata": {},
   "outputs": [],
   "source": [
    "df_train.rename(columns={'event_type': 'Включена_20%_скидка'}, inplace=True)"
   ]
  },
  {
   "cell_type": "code",
   "execution_count": 30,
   "metadata": {},
   "outputs": [
    {
     "data": {
      "text/html": [
       "<div>\n",
       "<style scoped>\n",
       "    .dataframe tbody tr th:only-of-type {\n",
       "        vertical-align: middle;\n",
       "    }\n",
       "\n",
       "    .dataframe tbody tr th {\n",
       "        vertical-align: top;\n",
       "    }\n",
       "\n",
       "    .dataframe thead th {\n",
       "        text-align: right;\n",
       "    }\n",
       "</style>\n",
       "<table border=\"1\" class=\"dataframe\">\n",
       "  <thead>\n",
       "    <tr style=\"text-align: right;\">\n",
       "      <th></th>\n",
       "      <th>contract_id</th>\n",
       "      <th>blocked</th>\n",
       "      <th>day_or_month_contract</th>\n",
       "      <th>коичество обращений</th>\n",
       "      <th>url</th>\n",
       "      <th>обращение в службу заботы</th>\n",
       "      <th>Включена_20%_скидка</th>\n",
       "      <th>event_type</th>\n",
       "    </tr>\n",
       "  </thead>\n",
       "  <tbody>\n",
       "    <tr>\n",
       "      <th>0</th>\n",
       "      <td>7780</td>\n",
       "      <td>0</td>\n",
       "      <td>0.0</td>\n",
       "      <td>9.0</td>\n",
       "      <td>83.0</td>\n",
       "      <td>3.0</td>\n",
       "      <td>NaN</td>\n",
       "      <td>NaN</td>\n",
       "    </tr>\n",
       "    <tr>\n",
       "      <th>1</th>\n",
       "      <td>7785</td>\n",
       "      <td>0</td>\n",
       "      <td>0.0</td>\n",
       "      <td>1.0</td>\n",
       "      <td>10.0</td>\n",
       "      <td>NaN</td>\n",
       "      <td>NaN</td>\n",
       "      <td>NaN</td>\n",
       "    </tr>\n",
       "    <tr>\n",
       "      <th>2</th>\n",
       "      <td>7794</td>\n",
       "      <td>0</td>\n",
       "      <td>0.0</td>\n",
       "      <td>NaN</td>\n",
       "      <td>NaN</td>\n",
       "      <td>NaN</td>\n",
       "      <td>NaN</td>\n",
       "      <td>NaN</td>\n",
       "    </tr>\n",
       "  </tbody>\n",
       "</table>\n",
       "</div>"
      ],
      "text/plain": [
       "   contract_id  blocked  day_or_month_contract  коичество обращений   url  \\\n",
       "0         7780        0                    0.0                  9.0  83.0   \n",
       "1         7785        0                    0.0                  1.0  10.0   \n",
       "2         7794        0                    0.0                  NaN   NaN   \n",
       "\n",
       "   обращение в службу заботы  Включена_20%_скидка  event_type  \n",
       "0                        3.0                  NaN         NaN  \n",
       "1                        NaN                  NaN         NaN  \n",
       "2                        NaN                  NaN         NaN  "
      ]
     },
     "execution_count": 30,
     "metadata": {},
     "output_type": "execute_result"
    }
   ],
   "source": [
    "df_train = pd.merge(df_train, count_event5, on=\"contract_id\", how='left')\n",
    "df_train.head(3)"
   ]
  },
  {
   "cell_type": "code",
   "execution_count": 31,
   "metadata": {},
   "outputs": [],
   "source": [
    "df_train.rename(columns={'event_type': 'Возвращение_клиента'}, inplace=True)"
   ]
  },
  {
   "cell_type": "code",
   "execution_count": 32,
   "metadata": {},
   "outputs": [
    {
     "data": {
      "text/html": [
       "<div>\n",
       "<style scoped>\n",
       "    .dataframe tbody tr th:only-of-type {\n",
       "        vertical-align: middle;\n",
       "    }\n",
       "\n",
       "    .dataframe tbody tr th {\n",
       "        vertical-align: top;\n",
       "    }\n",
       "\n",
       "    .dataframe thead th {\n",
       "        text-align: right;\n",
       "    }\n",
       "</style>\n",
       "<table border=\"1\" class=\"dataframe\">\n",
       "  <thead>\n",
       "    <tr style=\"text-align: right;\">\n",
       "      <th></th>\n",
       "      <th>contract_id</th>\n",
       "      <th>blocked</th>\n",
       "      <th>day_or_month_contract</th>\n",
       "      <th>коичество обращений</th>\n",
       "      <th>url</th>\n",
       "      <th>обращение в службу заботы</th>\n",
       "      <th>Включена_20%_скидка</th>\n",
       "      <th>Возвращение_клиента</th>\n",
       "      <th>event_type</th>\n",
       "    </tr>\n",
       "  </thead>\n",
       "  <tbody>\n",
       "    <tr>\n",
       "      <th>0</th>\n",
       "      <td>7780</td>\n",
       "      <td>0</td>\n",
       "      <td>0.0</td>\n",
       "      <td>9.0</td>\n",
       "      <td>83.0</td>\n",
       "      <td>3.0</td>\n",
       "      <td>NaN</td>\n",
       "      <td>NaN</td>\n",
       "      <td>NaN</td>\n",
       "    </tr>\n",
       "    <tr>\n",
       "      <th>1</th>\n",
       "      <td>7785</td>\n",
       "      <td>0</td>\n",
       "      <td>0.0</td>\n",
       "      <td>1.0</td>\n",
       "      <td>10.0</td>\n",
       "      <td>NaN</td>\n",
       "      <td>NaN</td>\n",
       "      <td>NaN</td>\n",
       "      <td>NaN</td>\n",
       "    </tr>\n",
       "    <tr>\n",
       "      <th>2</th>\n",
       "      <td>7794</td>\n",
       "      <td>0</td>\n",
       "      <td>0.0</td>\n",
       "      <td>NaN</td>\n",
       "      <td>NaN</td>\n",
       "      <td>NaN</td>\n",
       "      <td>NaN</td>\n",
       "      <td>NaN</td>\n",
       "      <td>NaN</td>\n",
       "    </tr>\n",
       "  </tbody>\n",
       "</table>\n",
       "</div>"
      ],
      "text/plain": [
       "   contract_id  blocked  day_or_month_contract  коичество обращений   url  \\\n",
       "0         7780        0                    0.0                  9.0  83.0   \n",
       "1         7785        0                    0.0                  1.0  10.0   \n",
       "2         7794        0                    0.0                  NaN   NaN   \n",
       "\n",
       "   обращение в службу заботы  Включена_20%_скидка  Возвращение_клиента  \\\n",
       "0                        3.0                  NaN                  NaN   \n",
       "1                        NaN                  NaN                  NaN   \n",
       "2                        NaN                  NaN                  NaN   \n",
       "\n",
       "   event_type  \n",
       "0         NaN  \n",
       "1         NaN  \n",
       "2         NaN  "
      ]
     },
     "execution_count": 32,
     "metadata": {},
     "output_type": "execute_result"
    }
   ],
   "source": [
    "df_train = pd.merge(df_train, count_event6, on=\"contract_id\", how='left')\n",
    "df_train.head(3)"
   ]
  },
  {
   "cell_type": "code",
   "execution_count": 33,
   "metadata": {},
   "outputs": [],
   "source": [
    "df_train.rename(columns={'event_type': 'Изменение_схемы_оплаты'}, inplace=True)"
   ]
  },
  {
   "cell_type": "code",
   "execution_count": 34,
   "metadata": {},
   "outputs": [
    {
     "data": {
      "text/html": [
       "<div>\n",
       "<style scoped>\n",
       "    .dataframe tbody tr th:only-of-type {\n",
       "        vertical-align: middle;\n",
       "    }\n",
       "\n",
       "    .dataframe tbody tr th {\n",
       "        vertical-align: top;\n",
       "    }\n",
       "\n",
       "    .dataframe thead th {\n",
       "        text-align: right;\n",
       "    }\n",
       "</style>\n",
       "<table border=\"1\" class=\"dataframe\">\n",
       "  <thead>\n",
       "    <tr style=\"text-align: right;\">\n",
       "      <th></th>\n",
       "      <th>contract_id</th>\n",
       "      <th>blocked</th>\n",
       "      <th>day_or_month_contract</th>\n",
       "      <th>коичество обращений</th>\n",
       "      <th>url</th>\n",
       "      <th>обращение в службу заботы</th>\n",
       "      <th>Включена_20%_скидка</th>\n",
       "      <th>Возвращение_клиента</th>\n",
       "      <th>Изменение_схемы_оплаты</th>\n",
       "      <th>event_type</th>\n",
       "    </tr>\n",
       "  </thead>\n",
       "  <tbody>\n",
       "    <tr>\n",
       "      <th>0</th>\n",
       "      <td>7780</td>\n",
       "      <td>0</td>\n",
       "      <td>0.0</td>\n",
       "      <td>9.0</td>\n",
       "      <td>83.0</td>\n",
       "      <td>3.0</td>\n",
       "      <td>NaN</td>\n",
       "      <td>NaN</td>\n",
       "      <td>NaN</td>\n",
       "      <td>NaN</td>\n",
       "    </tr>\n",
       "    <tr>\n",
       "      <th>1</th>\n",
       "      <td>7785</td>\n",
       "      <td>0</td>\n",
       "      <td>0.0</td>\n",
       "      <td>1.0</td>\n",
       "      <td>10.0</td>\n",
       "      <td>NaN</td>\n",
       "      <td>NaN</td>\n",
       "      <td>NaN</td>\n",
       "      <td>NaN</td>\n",
       "      <td>NaN</td>\n",
       "    </tr>\n",
       "    <tr>\n",
       "      <th>2</th>\n",
       "      <td>7794</td>\n",
       "      <td>0</td>\n",
       "      <td>0.0</td>\n",
       "      <td>NaN</td>\n",
       "      <td>NaN</td>\n",
       "      <td>NaN</td>\n",
       "      <td>NaN</td>\n",
       "      <td>NaN</td>\n",
       "      <td>NaN</td>\n",
       "      <td>NaN</td>\n",
       "    </tr>\n",
       "  </tbody>\n",
       "</table>\n",
       "</div>"
      ],
      "text/plain": [
       "   contract_id  blocked  day_or_month_contract  коичество обращений   url  \\\n",
       "0         7780        0                    0.0                  9.0  83.0   \n",
       "1         7785        0                    0.0                  1.0  10.0   \n",
       "2         7794        0                    0.0                  NaN   NaN   \n",
       "\n",
       "   обращение в службу заботы  Включена_20%_скидка  Возвращение_клиента  \\\n",
       "0                        3.0                  NaN                  NaN   \n",
       "1                        NaN                  NaN                  NaN   \n",
       "2                        NaN                  NaN                  NaN   \n",
       "\n",
       "   Изменение_схемы_оплаты  event_type  \n",
       "0                     NaN         NaN  \n",
       "1                     NaN         NaN  \n",
       "2                     NaN         NaN  "
      ]
     },
     "execution_count": 34,
     "metadata": {},
     "output_type": "execute_result"
    }
   ],
   "source": [
    "df_train = pd.merge(df_train, count_event7, on=\"contract_id\", how='left')\n",
    "df_train.head(3)"
   ]
  },
  {
   "cell_type": "code",
   "execution_count": 35,
   "metadata": {},
   "outputs": [],
   "source": [
    "df_train.rename(columns={'event_type': 'Предложение_ТВ_пакета'}, inplace=True)"
   ]
  },
  {
   "cell_type": "code",
   "execution_count": 36,
   "metadata": {},
   "outputs": [],
   "source": [
    "#сгруппируем обращения по каждому клиенту\n",
    "event_types = df_log.groupby(\"contract_id\")['event_type'].apply(lambda tags: ','.join(tags))"
   ]
  },
  {
   "cell_type": "code",
   "execution_count": 37,
   "metadata": {},
   "outputs": [
    {
     "data": {
      "text/html": [
       "<div>\n",
       "<style scoped>\n",
       "    .dataframe tbody tr th:only-of-type {\n",
       "        vertical-align: middle;\n",
       "    }\n",
       "\n",
       "    .dataframe tbody tr th {\n",
       "        vertical-align: top;\n",
       "    }\n",
       "\n",
       "    .dataframe thead th {\n",
       "        text-align: right;\n",
       "    }\n",
       "</style>\n",
       "<table border=\"1\" class=\"dataframe\">\n",
       "  <thead>\n",
       "    <tr style=\"text-align: right;\">\n",
       "      <th></th>\n",
       "      <th>contract_id</th>\n",
       "      <th>blocked</th>\n",
       "      <th>day_or_month_contract</th>\n",
       "      <th>коичество обращений</th>\n",
       "      <th>url</th>\n",
       "      <th>обращение в службу заботы</th>\n",
       "      <th>Включена_20%_скидка</th>\n",
       "      <th>Возвращение_клиента</th>\n",
       "      <th>Изменение_схемы_оплаты</th>\n",
       "      <th>Предложение_ТВ_пакета</th>\n",
       "      <th>event_type</th>\n",
       "    </tr>\n",
       "  </thead>\n",
       "  <tbody>\n",
       "    <tr>\n",
       "      <th>0</th>\n",
       "      <td>7780</td>\n",
       "      <td>0</td>\n",
       "      <td>0.0</td>\n",
       "      <td>9.0</td>\n",
       "      <td>83.0</td>\n",
       "      <td>3.0</td>\n",
       "      <td>NaN</td>\n",
       "      <td>NaN</td>\n",
       "      <td>NaN</td>\n",
       "      <td>NaN</td>\n",
       "      <td>Отключение услуги Автоплатёж,Обращение в служб...</td>\n",
       "    </tr>\n",
       "    <tr>\n",
       "      <th>1</th>\n",
       "      <td>7785</td>\n",
       "      <td>0</td>\n",
       "      <td>0.0</td>\n",
       "      <td>1.0</td>\n",
       "      <td>10.0</td>\n",
       "      <td>NaN</td>\n",
       "      <td>NaN</td>\n",
       "      <td>NaN</td>\n",
       "      <td>NaN</td>\n",
       "      <td>NaN</td>\n",
       "      <td>Реестр договоров</td>\n",
       "    </tr>\n",
       "    <tr>\n",
       "      <th>2</th>\n",
       "      <td>7794</td>\n",
       "      <td>0</td>\n",
       "      <td>0.0</td>\n",
       "      <td>NaN</td>\n",
       "      <td>NaN</td>\n",
       "      <td>NaN</td>\n",
       "      <td>NaN</td>\n",
       "      <td>NaN</td>\n",
       "      <td>NaN</td>\n",
       "      <td>NaN</td>\n",
       "      <td>NaN</td>\n",
       "    </tr>\n",
       "  </tbody>\n",
       "</table>\n",
       "</div>"
      ],
      "text/plain": [
       "   contract_id  blocked  day_or_month_contract  коичество обращений   url  \\\n",
       "0         7780        0                    0.0                  9.0  83.0   \n",
       "1         7785        0                    0.0                  1.0  10.0   \n",
       "2         7794        0                    0.0                  NaN   NaN   \n",
       "\n",
       "   обращение в службу заботы  Включена_20%_скидка  Возвращение_клиента  \\\n",
       "0                        3.0                  NaN                  NaN   \n",
       "1                        NaN                  NaN                  NaN   \n",
       "2                        NaN                  NaN                  NaN   \n",
       "\n",
       "   Изменение_схемы_оплаты  Предложение_ТВ_пакета  \\\n",
       "0                     NaN                    NaN   \n",
       "1                     NaN                    NaN   \n",
       "2                     NaN                    NaN   \n",
       "\n",
       "                                          event_type  \n",
       "0  Отключение услуги Автоплатёж,Обращение в служб...  \n",
       "1                                   Реестр договоров  \n",
       "2                                                NaN  "
      ]
     },
     "execution_count": 37,
     "metadata": {},
     "output_type": "execute_result"
    }
   ],
   "source": [
    "df_train = pd.merge(df_train, event_types, on=\"contract_id\", how='left')\n",
    "df_train.head(3)"
   ]
  },
  {
   "cell_type": "code",
   "execution_count": 38,
   "metadata": {},
   "outputs": [],
   "source": [
    "df_train.rename(columns={'event_type': 'тип обращений'}, inplace=True)"
   ]
  },
  {
   "cell_type": "code",
   "execution_count": 39,
   "metadata": {},
   "outputs": [
    {
     "data": {
      "text/plain": [
       "contract_id\n",
       "3453                                               21-03-03\n",
       "3454                                               21-04-28\n",
       "3456                    21-03-21,21-03-21,21-03-21,21-03-21\n",
       "3457                    21-03-09,21-03-10,21-03-13,21-04-29\n",
       "3458      21-03-01,21-03-04,21-03-07,21-03-10,21-03-13,2...\n",
       "                                ...                        \n",
       "274601    21-04-20,21-04-20,21-04-20,21-04-20,21-04-20,2...\n",
       "274710    21-04-20,21-04-20,21-04-20,21-04-20,21-04-20,2...\n",
       "274782    21-04-15,21-04-17,21-04-19,21-04-19,21-04-22,2...\n",
       "274786    21-04-15,21-04-25,21-04-26,21-04-28,21-04-28,2...\n",
       "274918                                             21-04-15\n",
       "Name: event_date, Length: 4311, dtype: object"
      ]
     },
     "execution_count": 39,
     "metadata": {},
     "output_type": "execute_result"
    }
   ],
   "source": [
    "#сгруппируем даты обращений по каждому клинту\n",
    "event_dates = df_log.groupby(\"contract_id\")['event_date'].apply(lambda tags: ','.join(tags))\n",
    "event_dates"
   ]
  },
  {
   "cell_type": "code",
   "execution_count": 40,
   "metadata": {},
   "outputs": [
    {
     "data": {
      "text/html": [
       "<div>\n",
       "<style scoped>\n",
       "    .dataframe tbody tr th:only-of-type {\n",
       "        vertical-align: middle;\n",
       "    }\n",
       "\n",
       "    .dataframe tbody tr th {\n",
       "        vertical-align: top;\n",
       "    }\n",
       "\n",
       "    .dataframe thead th {\n",
       "        text-align: right;\n",
       "    }\n",
       "</style>\n",
       "<table border=\"1\" class=\"dataframe\">\n",
       "  <thead>\n",
       "    <tr style=\"text-align: right;\">\n",
       "      <th></th>\n",
       "      <th>contract_id</th>\n",
       "      <th>blocked</th>\n",
       "      <th>day_or_month_contract</th>\n",
       "      <th>коичество обращений</th>\n",
       "      <th>url</th>\n",
       "      <th>обращение в службу заботы</th>\n",
       "      <th>Включена_20%_скидка</th>\n",
       "      <th>Возвращение_клиента</th>\n",
       "      <th>Изменение_схемы_оплаты</th>\n",
       "      <th>Предложение_ТВ_пакета</th>\n",
       "      <th>тип обращений</th>\n",
       "      <th>event_date</th>\n",
       "    </tr>\n",
       "  </thead>\n",
       "  <tbody>\n",
       "    <tr>\n",
       "      <th>0</th>\n",
       "      <td>7780</td>\n",
       "      <td>0</td>\n",
       "      <td>0.0</td>\n",
       "      <td>9.0</td>\n",
       "      <td>83.0</td>\n",
       "      <td>3.0</td>\n",
       "      <td>NaN</td>\n",
       "      <td>NaN</td>\n",
       "      <td>NaN</td>\n",
       "      <td>NaN</td>\n",
       "      <td>Отключение услуги Автоплатёж,Обращение в служб...</td>\n",
       "      <td>21-03-17,21-03-17,21-04-01,21-04-01,21-04-01,2...</td>\n",
       "    </tr>\n",
       "    <tr>\n",
       "      <th>1</th>\n",
       "      <td>7785</td>\n",
       "      <td>0</td>\n",
       "      <td>0.0</td>\n",
       "      <td>1.0</td>\n",
       "      <td>10.0</td>\n",
       "      <td>NaN</td>\n",
       "      <td>NaN</td>\n",
       "      <td>NaN</td>\n",
       "      <td>NaN</td>\n",
       "      <td>NaN</td>\n",
       "      <td>Реестр договоров</td>\n",
       "      <td>21-03-30</td>\n",
       "    </tr>\n",
       "    <tr>\n",
       "      <th>2</th>\n",
       "      <td>7794</td>\n",
       "      <td>0</td>\n",
       "      <td>0.0</td>\n",
       "      <td>NaN</td>\n",
       "      <td>NaN</td>\n",
       "      <td>NaN</td>\n",
       "      <td>NaN</td>\n",
       "      <td>NaN</td>\n",
       "      <td>NaN</td>\n",
       "      <td>NaN</td>\n",
       "      <td>NaN</td>\n",
       "      <td>NaN</td>\n",
       "    </tr>\n",
       "  </tbody>\n",
       "</table>\n",
       "</div>"
      ],
      "text/plain": [
       "   contract_id  blocked  day_or_month_contract  коичество обращений   url  \\\n",
       "0         7780        0                    0.0                  9.0  83.0   \n",
       "1         7785        0                    0.0                  1.0  10.0   \n",
       "2         7794        0                    0.0                  NaN   NaN   \n",
       "\n",
       "   обращение в службу заботы  Включена_20%_скидка  Возвращение_клиента  \\\n",
       "0                        3.0                  NaN                  NaN   \n",
       "1                        NaN                  NaN                  NaN   \n",
       "2                        NaN                  NaN                  NaN   \n",
       "\n",
       "   Изменение_схемы_оплаты  Предложение_ТВ_пакета  \\\n",
       "0                     NaN                    NaN   \n",
       "1                     NaN                    NaN   \n",
       "2                     NaN                    NaN   \n",
       "\n",
       "                                       тип обращений  \\\n",
       "0  Отключение услуги Автоплатёж,Обращение в служб...   \n",
       "1                                   Реестр договоров   \n",
       "2                                                NaN   \n",
       "\n",
       "                                          event_date  \n",
       "0  21-03-17,21-03-17,21-04-01,21-04-01,21-04-01,2...  \n",
       "1                                           21-03-30  \n",
       "2                                                NaN  "
      ]
     },
     "execution_count": 40,
     "metadata": {},
     "output_type": "execute_result"
    }
   ],
   "source": [
    "df_train = pd.merge(df_train, event_dates, on=\"contract_id\", how='left')\n",
    "df_train.head(3)"
   ]
  },
  {
   "cell_type": "code",
   "execution_count": 41,
   "metadata": {},
   "outputs": [],
   "source": [
    "df_train.rename(columns={'event_date': 'даты_обращений'}, inplace=True)"
   ]
  },
  {
   "cell_type": "markdown",
   "metadata": {},
   "source": [
    "добавим в датафрейм первые и последние даты обращения к конкурентам и в техподдержку"
   ]
  },
  {
   "cell_type": "code",
   "execution_count": 42,
   "metadata": {},
   "outputs": [
    {
     "data": {
      "text/html": [
       "<div>\n",
       "<style scoped>\n",
       "    .dataframe tbody tr th:only-of-type {\n",
       "        vertical-align: middle;\n",
       "    }\n",
       "\n",
       "    .dataframe tbody tr th {\n",
       "        vertical-align: top;\n",
       "    }\n",
       "\n",
       "    .dataframe thead th {\n",
       "        text-align: right;\n",
       "    }\n",
       "</style>\n",
       "<table border=\"1\" class=\"dataframe\">\n",
       "  <thead>\n",
       "    <tr style=\"text-align: right;\">\n",
       "      <th></th>\n",
       "      <th>contract_id</th>\n",
       "      <th>blocked</th>\n",
       "      <th>day_or_month_contract</th>\n",
       "      <th>коичество обращений</th>\n",
       "      <th>url</th>\n",
       "      <th>обращение в службу заботы</th>\n",
       "      <th>Включена_20%_скидка</th>\n",
       "      <th>Возвращение_клиента</th>\n",
       "      <th>Изменение_схемы_оплаты</th>\n",
       "      <th>Предложение_ТВ_пакета</th>\n",
       "      <th>тип обращений</th>\n",
       "      <th>даты_обращений</th>\n",
       "      <th>event_date</th>\n",
       "    </tr>\n",
       "  </thead>\n",
       "  <tbody>\n",
       "    <tr>\n",
       "      <th>0</th>\n",
       "      <td>7780</td>\n",
       "      <td>0</td>\n",
       "      <td>0.0</td>\n",
       "      <td>9.0</td>\n",
       "      <td>83.0</td>\n",
       "      <td>3.0</td>\n",
       "      <td>NaN</td>\n",
       "      <td>NaN</td>\n",
       "      <td>NaN</td>\n",
       "      <td>NaN</td>\n",
       "      <td>Отключение услуги Автоплатёж,Обращение в служб...</td>\n",
       "      <td>21-03-17,21-03-17,21-04-01,21-04-01,21-04-01,2...</td>\n",
       "      <td>21-04-28</td>\n",
       "    </tr>\n",
       "    <tr>\n",
       "      <th>1</th>\n",
       "      <td>7785</td>\n",
       "      <td>0</td>\n",
       "      <td>0.0</td>\n",
       "      <td>1.0</td>\n",
       "      <td>10.0</td>\n",
       "      <td>NaN</td>\n",
       "      <td>NaN</td>\n",
       "      <td>NaN</td>\n",
       "      <td>NaN</td>\n",
       "      <td>NaN</td>\n",
       "      <td>Реестр договоров</td>\n",
       "      <td>21-03-30</td>\n",
       "      <td>21-03-30</td>\n",
       "    </tr>\n",
       "    <tr>\n",
       "      <th>2</th>\n",
       "      <td>7794</td>\n",
       "      <td>0</td>\n",
       "      <td>0.0</td>\n",
       "      <td>NaN</td>\n",
       "      <td>NaN</td>\n",
       "      <td>NaN</td>\n",
       "      <td>NaN</td>\n",
       "      <td>NaN</td>\n",
       "      <td>NaN</td>\n",
       "      <td>NaN</td>\n",
       "      <td>NaN</td>\n",
       "      <td>NaN</td>\n",
       "      <td>NaN</td>\n",
       "    </tr>\n",
       "  </tbody>\n",
       "</table>\n",
       "</div>"
      ],
      "text/plain": [
       "   contract_id  blocked  day_or_month_contract  коичество обращений   url  \\\n",
       "0         7780        0                    0.0                  9.0  83.0   \n",
       "1         7785        0                    0.0                  1.0  10.0   \n",
       "2         7794        0                    0.0                  NaN   NaN   \n",
       "\n",
       "   обращение в службу заботы  Включена_20%_скидка  Возвращение_клиента  \\\n",
       "0                        3.0                  NaN                  NaN   \n",
       "1                        NaN                  NaN                  NaN   \n",
       "2                        NaN                  NaN                  NaN   \n",
       "\n",
       "   Изменение_схемы_оплаты  Предложение_ТВ_пакета  \\\n",
       "0                     NaN                    NaN   \n",
       "1                     NaN                    NaN   \n",
       "2                     NaN                    NaN   \n",
       "\n",
       "                                       тип обращений  \\\n",
       "0  Отключение услуги Автоплатёж,Обращение в служб...   \n",
       "1                                   Реестр договоров   \n",
       "2                                                NaN   \n",
       "\n",
       "                                      даты_обращений event_date  \n",
       "0  21-03-17,21-03-17,21-04-01,21-04-01,21-04-01,2...   21-04-28  \n",
       "1                                           21-03-30   21-03-30  \n",
       "2                                                NaN        NaN  "
      ]
     },
     "execution_count": 42,
     "metadata": {},
     "output_type": "execute_result"
    }
   ],
   "source": [
    "df_train = pd.merge(df_train, df_log_time_max, on=\"contract_id\", how='left')\n",
    "df_train.head(3)"
   ]
  },
  {
   "cell_type": "code",
   "execution_count": 43,
   "metadata": {},
   "outputs": [],
   "source": [
    "df_train.rename(columns={'event_date': 'df_log_time_max'}, inplace=True)"
   ]
  },
  {
   "cell_type": "code",
   "execution_count": 44,
   "metadata": {},
   "outputs": [
    {
     "data": {
      "text/html": [
       "<div>\n",
       "<style scoped>\n",
       "    .dataframe tbody tr th:only-of-type {\n",
       "        vertical-align: middle;\n",
       "    }\n",
       "\n",
       "    .dataframe tbody tr th {\n",
       "        vertical-align: top;\n",
       "    }\n",
       "\n",
       "    .dataframe thead th {\n",
       "        text-align: right;\n",
       "    }\n",
       "</style>\n",
       "<table border=\"1\" class=\"dataframe\">\n",
       "  <thead>\n",
       "    <tr style=\"text-align: right;\">\n",
       "      <th></th>\n",
       "      <th>contract_id</th>\n",
       "      <th>blocked</th>\n",
       "      <th>day_or_month_contract</th>\n",
       "      <th>коичество обращений</th>\n",
       "      <th>url</th>\n",
       "      <th>обращение в службу заботы</th>\n",
       "      <th>Включена_20%_скидка</th>\n",
       "      <th>Возвращение_клиента</th>\n",
       "      <th>Изменение_схемы_оплаты</th>\n",
       "      <th>Предложение_ТВ_пакета</th>\n",
       "      <th>тип обращений</th>\n",
       "      <th>даты_обращений</th>\n",
       "      <th>df_log_time_max</th>\n",
       "      <th>event_date</th>\n",
       "    </tr>\n",
       "  </thead>\n",
       "  <tbody>\n",
       "    <tr>\n",
       "      <th>0</th>\n",
       "      <td>7780</td>\n",
       "      <td>0</td>\n",
       "      <td>0.0</td>\n",
       "      <td>9.0</td>\n",
       "      <td>83.0</td>\n",
       "      <td>3.0</td>\n",
       "      <td>NaN</td>\n",
       "      <td>NaN</td>\n",
       "      <td>NaN</td>\n",
       "      <td>NaN</td>\n",
       "      <td>Отключение услуги Автоплатёж,Обращение в служб...</td>\n",
       "      <td>21-03-17,21-03-17,21-04-01,21-04-01,21-04-01,2...</td>\n",
       "      <td>21-04-28</td>\n",
       "      <td>21-03-17</td>\n",
       "    </tr>\n",
       "    <tr>\n",
       "      <th>1</th>\n",
       "      <td>7785</td>\n",
       "      <td>0</td>\n",
       "      <td>0.0</td>\n",
       "      <td>1.0</td>\n",
       "      <td>10.0</td>\n",
       "      <td>NaN</td>\n",
       "      <td>NaN</td>\n",
       "      <td>NaN</td>\n",
       "      <td>NaN</td>\n",
       "      <td>NaN</td>\n",
       "      <td>Реестр договоров</td>\n",
       "      <td>21-03-30</td>\n",
       "      <td>21-03-30</td>\n",
       "      <td>21-03-30</td>\n",
       "    </tr>\n",
       "    <tr>\n",
       "      <th>2</th>\n",
       "      <td>7794</td>\n",
       "      <td>0</td>\n",
       "      <td>0.0</td>\n",
       "      <td>NaN</td>\n",
       "      <td>NaN</td>\n",
       "      <td>NaN</td>\n",
       "      <td>NaN</td>\n",
       "      <td>NaN</td>\n",
       "      <td>NaN</td>\n",
       "      <td>NaN</td>\n",
       "      <td>NaN</td>\n",
       "      <td>NaN</td>\n",
       "      <td>NaN</td>\n",
       "      <td>NaN</td>\n",
       "    </tr>\n",
       "  </tbody>\n",
       "</table>\n",
       "</div>"
      ],
      "text/plain": [
       "   contract_id  blocked  day_or_month_contract  коичество обращений   url  \\\n",
       "0         7780        0                    0.0                  9.0  83.0   \n",
       "1         7785        0                    0.0                  1.0  10.0   \n",
       "2         7794        0                    0.0                  NaN   NaN   \n",
       "\n",
       "   обращение в службу заботы  Включена_20%_скидка  Возвращение_клиента  \\\n",
       "0                        3.0                  NaN                  NaN   \n",
       "1                        NaN                  NaN                  NaN   \n",
       "2                        NaN                  NaN                  NaN   \n",
       "\n",
       "   Изменение_схемы_оплаты  Предложение_ТВ_пакета  \\\n",
       "0                     NaN                    NaN   \n",
       "1                     NaN                    NaN   \n",
       "2                     NaN                    NaN   \n",
       "\n",
       "                                       тип обращений  \\\n",
       "0  Отключение услуги Автоплатёж,Обращение в служб...   \n",
       "1                                   Реестр договоров   \n",
       "2                                                NaN   \n",
       "\n",
       "                                      даты_обращений df_log_time_max  \\\n",
       "0  21-03-17,21-03-17,21-04-01,21-04-01,21-04-01,2...        21-04-28   \n",
       "1                                           21-03-30        21-03-30   \n",
       "2                                                NaN             NaN   \n",
       "\n",
       "  event_date  \n",
       "0   21-03-17  \n",
       "1   21-03-30  \n",
       "2        NaN  "
      ]
     },
     "execution_count": 44,
     "metadata": {},
     "output_type": "execute_result"
    }
   ],
   "source": [
    "df_train = pd.merge(df_train, df_log_time_min, on=\"contract_id\", how='left')\n",
    "df_train.head(3)"
   ]
  },
  {
   "cell_type": "code",
   "execution_count": 45,
   "metadata": {},
   "outputs": [],
   "source": [
    "df_train.rename(columns={'event_date': 'df_log_time_min'}, inplace=True)"
   ]
  },
  {
   "cell_type": "code",
   "execution_count": 46,
   "metadata": {},
   "outputs": [
    {
     "data": {
      "text/html": [
       "<div>\n",
       "<style scoped>\n",
       "    .dataframe tbody tr th:only-of-type {\n",
       "        vertical-align: middle;\n",
       "    }\n",
       "\n",
       "    .dataframe tbody tr th {\n",
       "        vertical-align: top;\n",
       "    }\n",
       "\n",
       "    .dataframe thead th {\n",
       "        text-align: right;\n",
       "    }\n",
       "</style>\n",
       "<table border=\"1\" class=\"dataframe\">\n",
       "  <thead>\n",
       "    <tr style=\"text-align: right;\">\n",
       "      <th></th>\n",
       "      <th>contract_id</th>\n",
       "      <th>blocked</th>\n",
       "      <th>day_or_month_contract</th>\n",
       "      <th>коичество обращений</th>\n",
       "      <th>url</th>\n",
       "      <th>обращение в службу заботы</th>\n",
       "      <th>Включена_20%_скидка</th>\n",
       "      <th>Возвращение_клиента</th>\n",
       "      <th>Изменение_схемы_оплаты</th>\n",
       "      <th>Предложение_ТВ_пакета</th>\n",
       "      <th>тип обращений</th>\n",
       "      <th>даты_обращений</th>\n",
       "      <th>df_log_time_max</th>\n",
       "      <th>df_log_time_min</th>\n",
       "      <th>date</th>\n",
       "    </tr>\n",
       "  </thead>\n",
       "  <tbody>\n",
       "    <tr>\n",
       "      <th>0</th>\n",
       "      <td>7780</td>\n",
       "      <td>0</td>\n",
       "      <td>0.0</td>\n",
       "      <td>9.0</td>\n",
       "      <td>83.0</td>\n",
       "      <td>3.0</td>\n",
       "      <td>NaN</td>\n",
       "      <td>NaN</td>\n",
       "      <td>NaN</td>\n",
       "      <td>NaN</td>\n",
       "      <td>Отключение услуги Автоплатёж,Обращение в служб...</td>\n",
       "      <td>21-03-17,21-03-17,21-04-01,21-04-01,21-04-01,2...</td>\n",
       "      <td>21-04-28</td>\n",
       "      <td>21-03-17</td>\n",
       "      <td>21-04-29</td>\n",
       "    </tr>\n",
       "    <tr>\n",
       "      <th>1</th>\n",
       "      <td>7785</td>\n",
       "      <td>0</td>\n",
       "      <td>0.0</td>\n",
       "      <td>1.0</td>\n",
       "      <td>10.0</td>\n",
       "      <td>NaN</td>\n",
       "      <td>NaN</td>\n",
       "      <td>NaN</td>\n",
       "      <td>NaN</td>\n",
       "      <td>NaN</td>\n",
       "      <td>Реестр договоров</td>\n",
       "      <td>21-03-30</td>\n",
       "      <td>21-03-30</td>\n",
       "      <td>21-03-30</td>\n",
       "      <td>21-04-22</td>\n",
       "    </tr>\n",
       "    <tr>\n",
       "      <th>2</th>\n",
       "      <td>7794</td>\n",
       "      <td>0</td>\n",
       "      <td>0.0</td>\n",
       "      <td>NaN</td>\n",
       "      <td>NaN</td>\n",
       "      <td>NaN</td>\n",
       "      <td>NaN</td>\n",
       "      <td>NaN</td>\n",
       "      <td>NaN</td>\n",
       "      <td>NaN</td>\n",
       "      <td>NaN</td>\n",
       "      <td>NaN</td>\n",
       "      <td>NaN</td>\n",
       "      <td>NaN</td>\n",
       "      <td>NaN</td>\n",
       "    </tr>\n",
       "  </tbody>\n",
       "</table>\n",
       "</div>"
      ],
      "text/plain": [
       "   contract_id  blocked  day_or_month_contract  коичество обращений   url  \\\n",
       "0         7780        0                    0.0                  9.0  83.0   \n",
       "1         7785        0                    0.0                  1.0  10.0   \n",
       "2         7794        0                    0.0                  NaN   NaN   \n",
       "\n",
       "   обращение в службу заботы  Включена_20%_скидка  Возвращение_клиента  \\\n",
       "0                        3.0                  NaN                  NaN   \n",
       "1                        NaN                  NaN                  NaN   \n",
       "2                        NaN                  NaN                  NaN   \n",
       "\n",
       "   Изменение_схемы_оплаты  Предложение_ТВ_пакета  \\\n",
       "0                     NaN                    NaN   \n",
       "1                     NaN                    NaN   \n",
       "2                     NaN                    NaN   \n",
       "\n",
       "                                       тип обращений  \\\n",
       "0  Отключение услуги Автоплатёж,Обращение в служб...   \n",
       "1                                   Реестр договоров   \n",
       "2                                                NaN   \n",
       "\n",
       "                                      даты_обращений df_log_time_max  \\\n",
       "0  21-03-17,21-03-17,21-04-01,21-04-01,21-04-01,2...        21-04-28   \n",
       "1                                           21-03-30        21-03-30   \n",
       "2                                                NaN             NaN   \n",
       "\n",
       "  df_log_time_min      date  \n",
       "0        21-03-17  21-04-29  \n",
       "1        21-03-30  21-04-22  \n",
       "2             NaN       NaN  "
      ]
     },
     "execution_count": 46,
     "metadata": {},
     "output_type": "execute_result"
    }
   ],
   "source": [
    "df_train = pd.merge(df_train, df_named_max, on=\"contract_id\", how='left')\n",
    "df_train.head(3)"
   ]
  },
  {
   "cell_type": "code",
   "execution_count": 47,
   "metadata": {},
   "outputs": [],
   "source": [
    "df_train.rename(columns={'date': 'df_named_max'}, inplace=True)"
   ]
  },
  {
   "cell_type": "code",
   "execution_count": 48,
   "metadata": {},
   "outputs": [
    {
     "data": {
      "text/html": [
       "<div>\n",
       "<style scoped>\n",
       "    .dataframe tbody tr th:only-of-type {\n",
       "        vertical-align: middle;\n",
       "    }\n",
       "\n",
       "    .dataframe tbody tr th {\n",
       "        vertical-align: top;\n",
       "    }\n",
       "\n",
       "    .dataframe thead th {\n",
       "        text-align: right;\n",
       "    }\n",
       "</style>\n",
       "<table border=\"1\" class=\"dataframe\">\n",
       "  <thead>\n",
       "    <tr style=\"text-align: right;\">\n",
       "      <th></th>\n",
       "      <th>contract_id</th>\n",
       "      <th>blocked</th>\n",
       "      <th>day_or_month_contract</th>\n",
       "      <th>коичество обращений</th>\n",
       "      <th>url</th>\n",
       "      <th>обращение в службу заботы</th>\n",
       "      <th>Включена_20%_скидка</th>\n",
       "      <th>Возвращение_клиента</th>\n",
       "      <th>Изменение_схемы_оплаты</th>\n",
       "      <th>Предложение_ТВ_пакета</th>\n",
       "      <th>тип обращений</th>\n",
       "      <th>даты_обращений</th>\n",
       "      <th>df_log_time_max</th>\n",
       "      <th>df_log_time_min</th>\n",
       "      <th>df_named_max</th>\n",
       "      <th>date</th>\n",
       "    </tr>\n",
       "  </thead>\n",
       "  <tbody>\n",
       "    <tr>\n",
       "      <th>0</th>\n",
       "      <td>7780</td>\n",
       "      <td>0</td>\n",
       "      <td>0.0</td>\n",
       "      <td>9.0</td>\n",
       "      <td>83.0</td>\n",
       "      <td>3.0</td>\n",
       "      <td>NaN</td>\n",
       "      <td>NaN</td>\n",
       "      <td>NaN</td>\n",
       "      <td>NaN</td>\n",
       "      <td>Отключение услуги Автоплатёж,Обращение в служб...</td>\n",
       "      <td>21-03-17,21-03-17,21-04-01,21-04-01,21-04-01,2...</td>\n",
       "      <td>21-04-28</td>\n",
       "      <td>21-03-17</td>\n",
       "      <td>21-04-29</td>\n",
       "      <td>21-04-28</td>\n",
       "    </tr>\n",
       "    <tr>\n",
       "      <th>1</th>\n",
       "      <td>7785</td>\n",
       "      <td>0</td>\n",
       "      <td>0.0</td>\n",
       "      <td>1.0</td>\n",
       "      <td>10.0</td>\n",
       "      <td>NaN</td>\n",
       "      <td>NaN</td>\n",
       "      <td>NaN</td>\n",
       "      <td>NaN</td>\n",
       "      <td>NaN</td>\n",
       "      <td>Реестр договоров</td>\n",
       "      <td>21-03-30</td>\n",
       "      <td>21-03-30</td>\n",
       "      <td>21-03-30</td>\n",
       "      <td>21-04-22</td>\n",
       "      <td>21-04-03</td>\n",
       "    </tr>\n",
       "    <tr>\n",
       "      <th>2</th>\n",
       "      <td>7794</td>\n",
       "      <td>0</td>\n",
       "      <td>0.0</td>\n",
       "      <td>NaN</td>\n",
       "      <td>NaN</td>\n",
       "      <td>NaN</td>\n",
       "      <td>NaN</td>\n",
       "      <td>NaN</td>\n",
       "      <td>NaN</td>\n",
       "      <td>NaN</td>\n",
       "      <td>NaN</td>\n",
       "      <td>NaN</td>\n",
       "      <td>NaN</td>\n",
       "      <td>NaN</td>\n",
       "      <td>NaN</td>\n",
       "      <td>NaN</td>\n",
       "    </tr>\n",
       "  </tbody>\n",
       "</table>\n",
       "</div>"
      ],
      "text/plain": [
       "   contract_id  blocked  day_or_month_contract  коичество обращений   url  \\\n",
       "0         7780        0                    0.0                  9.0  83.0   \n",
       "1         7785        0                    0.0                  1.0  10.0   \n",
       "2         7794        0                    0.0                  NaN   NaN   \n",
       "\n",
       "   обращение в службу заботы  Включена_20%_скидка  Возвращение_клиента  \\\n",
       "0                        3.0                  NaN                  NaN   \n",
       "1                        NaN                  NaN                  NaN   \n",
       "2                        NaN                  NaN                  NaN   \n",
       "\n",
       "   Изменение_схемы_оплаты  Предложение_ТВ_пакета  \\\n",
       "0                     NaN                    NaN   \n",
       "1                     NaN                    NaN   \n",
       "2                     NaN                    NaN   \n",
       "\n",
       "                                       тип обращений  \\\n",
       "0  Отключение услуги Автоплатёж,Обращение в служб...   \n",
       "1                                   Реестр договоров   \n",
       "2                                                NaN   \n",
       "\n",
       "                                      даты_обращений df_log_time_max  \\\n",
       "0  21-03-17,21-03-17,21-04-01,21-04-01,21-04-01,2...        21-04-28   \n",
       "1                                           21-03-30        21-03-30   \n",
       "2                                                NaN             NaN   \n",
       "\n",
       "  df_log_time_min df_named_max      date  \n",
       "0        21-03-17     21-04-29  21-04-28  \n",
       "1        21-03-30     21-04-22  21-04-03  \n",
       "2             NaN          NaN       NaN  "
      ]
     },
     "execution_count": 48,
     "metadata": {},
     "output_type": "execute_result"
    }
   ],
   "source": [
    "df_train = pd.merge(df_train, df_named_min, on=\"contract_id\", how='left')\n",
    "df_train.head(3)"
   ]
  },
  {
   "cell_type": "code",
   "execution_count": 49,
   "metadata": {},
   "outputs": [],
   "source": [
    "df_train.rename(columns={'date': 'df_named_min'}, inplace=True)"
   ]
  },
  {
   "cell_type": "code",
   "execution_count": 50,
   "metadata": {},
   "outputs": [
    {
     "data": {
      "text/plain": [
       "5992"
      ]
     },
     "execution_count": 50,
     "metadata": {},
     "output_type": "execute_result"
    }
   ],
   "source": [
    "len(df_train)"
   ]
  },
  {
   "cell_type": "markdown",
   "metadata": {
    "id": "JfDtpoZoeE47"
   },
   "source": [
    "Заменим пропуски на нули"
   ]
  },
  {
   "cell_type": "code",
   "execution_count": 51,
   "metadata": {
    "id": "pgmgFqen62Rh"
   },
   "outputs": [],
   "source": [
    "df_train = df_train.fillna(0)"
   ]
  },
  {
   "cell_type": "markdown",
   "metadata": {},
   "source": [
    "Добавим количество дней между первым и последним оращением, а также между обращением в служьу поддержки и к конкурентам"
   ]
  },
  {
   "cell_type": "code",
   "execution_count": 52,
   "metadata": {},
   "outputs": [],
   "source": [
    "df_train['1'] = (pd.to_datetime(df_train['df_named_max'], format='%y-%m-%d', errors='coerce') - pd.to_datetime(df_train['df_named_min'], format='%y-%m-%d', errors='coerce'))\n",
    "df_train['2'] = (pd.to_datetime(df_train['df_log_time_max'], format='%y-%m-%d', errors='coerce') - pd.to_datetime(df_train['df_log_time_min'], format='%y-%m-%d', errors='coerce'))"
   ]
  },
  {
   "cell_type": "code",
   "execution_count": 53,
   "metadata": {},
   "outputs": [],
   "source": [
    "df_train['1'] = df_train['1'].dt.days"
   ]
  },
  {
   "cell_type": "code",
   "execution_count": 54,
   "metadata": {},
   "outputs": [],
   "source": [
    "df_train['2'] = df_train['2'].dt.days"
   ]
  },
  {
   "cell_type": "code",
   "execution_count": 55,
   "metadata": {},
   "outputs": [],
   "source": [
    "df_train['3'] = (pd.to_datetime(df_train['df_log_time_max'], format='%y-%m-%d', errors='coerce') - pd.to_datetime(df_train['df_named_max'], format='%y-%m-%d', errors='coerce'))\n",
    "df_train['4'] = (pd.to_datetime(df_train['df_log_time_min'], format='%y-%m-%d', errors='coerce') - pd.to_datetime(df_train['df_named_min'], format='%y-%m-%d', errors='coerce'))"
   ]
  },
  {
   "cell_type": "code",
   "execution_count": 56,
   "metadata": {},
   "outputs": [],
   "source": [
    "df_train['3'] = df_train['3'].dt.days\n",
    "df_train['4'] = df_train['4'].dt.days"
   ]
  },
  {
   "cell_type": "code",
   "execution_count": 57,
   "metadata": {},
   "outputs": [
    {
     "data": {
      "text/html": [
       "<div>\n",
       "<style scoped>\n",
       "    .dataframe tbody tr th:only-of-type {\n",
       "        vertical-align: middle;\n",
       "    }\n",
       "\n",
       "    .dataframe tbody tr th {\n",
       "        vertical-align: top;\n",
       "    }\n",
       "\n",
       "    .dataframe thead th {\n",
       "        text-align: right;\n",
       "    }\n",
       "</style>\n",
       "<table border=\"1\" class=\"dataframe\">\n",
       "  <thead>\n",
       "    <tr style=\"text-align: right;\">\n",
       "      <th></th>\n",
       "      <th>contract_id</th>\n",
       "      <th>blocked</th>\n",
       "      <th>day_or_month_contract</th>\n",
       "      <th>коичество обращений</th>\n",
       "      <th>url</th>\n",
       "      <th>обращение в службу заботы</th>\n",
       "      <th>Включена_20%_скидка</th>\n",
       "      <th>Возвращение_клиента</th>\n",
       "      <th>Изменение_схемы_оплаты</th>\n",
       "      <th>Предложение_ТВ_пакета</th>\n",
       "      <th>тип обращений</th>\n",
       "      <th>даты_обращений</th>\n",
       "      <th>df_log_time_max</th>\n",
       "      <th>df_log_time_min</th>\n",
       "      <th>df_named_max</th>\n",
       "      <th>df_named_min</th>\n",
       "      <th>1</th>\n",
       "      <th>2</th>\n",
       "      <th>3</th>\n",
       "      <th>4</th>\n",
       "    </tr>\n",
       "  </thead>\n",
       "  <tbody>\n",
       "    <tr>\n",
       "      <th>0</th>\n",
       "      <td>7780</td>\n",
       "      <td>0</td>\n",
       "      <td>0.0</td>\n",
       "      <td>9.0</td>\n",
       "      <td>83.0</td>\n",
       "      <td>3.0</td>\n",
       "      <td>0.0</td>\n",
       "      <td>0.0</td>\n",
       "      <td>0.0</td>\n",
       "      <td>0.0</td>\n",
       "      <td>Отключение услуги Автоплатёж,Обращение в служб...</td>\n",
       "      <td>21-03-17,21-03-17,21-04-01,21-04-01,21-04-01,2...</td>\n",
       "      <td>21-04-28</td>\n",
       "      <td>21-03-17</td>\n",
       "      <td>21-04-29</td>\n",
       "      <td>21-04-28</td>\n",
       "      <td>1.0</td>\n",
       "      <td>42.0</td>\n",
       "      <td>-1.0</td>\n",
       "      <td>-42.0</td>\n",
       "    </tr>\n",
       "    <tr>\n",
       "      <th>1</th>\n",
       "      <td>7785</td>\n",
       "      <td>0</td>\n",
       "      <td>0.0</td>\n",
       "      <td>1.0</td>\n",
       "      <td>10.0</td>\n",
       "      <td>0.0</td>\n",
       "      <td>0.0</td>\n",
       "      <td>0.0</td>\n",
       "      <td>0.0</td>\n",
       "      <td>0.0</td>\n",
       "      <td>Реестр договоров</td>\n",
       "      <td>21-03-30</td>\n",
       "      <td>21-03-30</td>\n",
       "      <td>21-03-30</td>\n",
       "      <td>21-04-22</td>\n",
       "      <td>21-04-03</td>\n",
       "      <td>19.0</td>\n",
       "      <td>0.0</td>\n",
       "      <td>-23.0</td>\n",
       "      <td>-4.0</td>\n",
       "    </tr>\n",
       "    <tr>\n",
       "      <th>2</th>\n",
       "      <td>7794</td>\n",
       "      <td>0</td>\n",
       "      <td>0.0</td>\n",
       "      <td>0.0</td>\n",
       "      <td>0.0</td>\n",
       "      <td>0.0</td>\n",
       "      <td>0.0</td>\n",
       "      <td>0.0</td>\n",
       "      <td>0.0</td>\n",
       "      <td>0.0</td>\n",
       "      <td>0</td>\n",
       "      <td>0</td>\n",
       "      <td>0</td>\n",
       "      <td>0</td>\n",
       "      <td>0</td>\n",
       "      <td>0</td>\n",
       "      <td>NaN</td>\n",
       "      <td>NaN</td>\n",
       "      <td>NaN</td>\n",
       "      <td>NaN</td>\n",
       "    </tr>\n",
       "    <tr>\n",
       "      <th>3</th>\n",
       "      <td>7795</td>\n",
       "      <td>0</td>\n",
       "      <td>1.0</td>\n",
       "      <td>7.0</td>\n",
       "      <td>0.0</td>\n",
       "      <td>0.0</td>\n",
       "      <td>0.0</td>\n",
       "      <td>0.0</td>\n",
       "      <td>0.0</td>\n",
       "      <td>0.0</td>\n",
       "      <td>Информер ВК. Показ,Включение интернета на 20 м...</td>\n",
       "      <td>21-03-08,21-03-08,21-03-08,21-03-18,21-03-20,2...</td>\n",
       "      <td>21-03-24</td>\n",
       "      <td>21-03-08</td>\n",
       "      <td>0</td>\n",
       "      <td>0</td>\n",
       "      <td>NaN</td>\n",
       "      <td>16.0</td>\n",
       "      <td>NaN</td>\n",
       "      <td>NaN</td>\n",
       "    </tr>\n",
       "    <tr>\n",
       "      <th>4</th>\n",
       "      <td>7798</td>\n",
       "      <td>0</td>\n",
       "      <td>0.0</td>\n",
       "      <td>3.0</td>\n",
       "      <td>0.0</td>\n",
       "      <td>0.0</td>\n",
       "      <td>0.0</td>\n",
       "      <td>0.0</td>\n",
       "      <td>0.0</td>\n",
       "      <td>0.0</td>\n",
       "      <td>Информер ВК. Показ,Информер ВК. Показ,Информер...</td>\n",
       "      <td>21-03-13,21-03-13,21-04-17</td>\n",
       "      <td>21-04-17</td>\n",
       "      <td>21-03-13</td>\n",
       "      <td>0</td>\n",
       "      <td>0</td>\n",
       "      <td>NaN</td>\n",
       "      <td>35.0</td>\n",
       "      <td>NaN</td>\n",
       "      <td>NaN</td>\n",
       "    </tr>\n",
       "  </tbody>\n",
       "</table>\n",
       "</div>"
      ],
      "text/plain": [
       "   contract_id  blocked  day_or_month_contract  коичество обращений   url  \\\n",
       "0         7780        0                    0.0                  9.0  83.0   \n",
       "1         7785        0                    0.0                  1.0  10.0   \n",
       "2         7794        0                    0.0                  0.0   0.0   \n",
       "3         7795        0                    1.0                  7.0   0.0   \n",
       "4         7798        0                    0.0                  3.0   0.0   \n",
       "\n",
       "   обращение в службу заботы  Включена_20%_скидка  Возвращение_клиента  \\\n",
       "0                        3.0                  0.0                  0.0   \n",
       "1                        0.0                  0.0                  0.0   \n",
       "2                        0.0                  0.0                  0.0   \n",
       "3                        0.0                  0.0                  0.0   \n",
       "4                        0.0                  0.0                  0.0   \n",
       "\n",
       "   Изменение_схемы_оплаты  Предложение_ТВ_пакета  \\\n",
       "0                     0.0                    0.0   \n",
       "1                     0.0                    0.0   \n",
       "2                     0.0                    0.0   \n",
       "3                     0.0                    0.0   \n",
       "4                     0.0                    0.0   \n",
       "\n",
       "                                       тип обращений  \\\n",
       "0  Отключение услуги Автоплатёж,Обращение в служб...   \n",
       "1                                   Реестр договоров   \n",
       "2                                                  0   \n",
       "3  Информер ВК. Показ,Включение интернета на 20 м...   \n",
       "4  Информер ВК. Показ,Информер ВК. Показ,Информер...   \n",
       "\n",
       "                                      даты_обращений df_log_time_max  \\\n",
       "0  21-03-17,21-03-17,21-04-01,21-04-01,21-04-01,2...        21-04-28   \n",
       "1                                           21-03-30        21-03-30   \n",
       "2                                                  0               0   \n",
       "3  21-03-08,21-03-08,21-03-08,21-03-18,21-03-20,2...        21-03-24   \n",
       "4                         21-03-13,21-03-13,21-04-17        21-04-17   \n",
       "\n",
       "  df_log_time_min df_named_max df_named_min     1     2     3     4  \n",
       "0        21-03-17     21-04-29     21-04-28   1.0  42.0  -1.0 -42.0  \n",
       "1        21-03-30     21-04-22     21-04-03  19.0   0.0 -23.0  -4.0  \n",
       "2               0            0            0   NaN   NaN   NaN   NaN  \n",
       "3        21-03-08            0            0   NaN  16.0   NaN   NaN  \n",
       "4        21-03-13            0            0   NaN  35.0   NaN   NaN  "
      ]
     },
     "execution_count": 57,
     "metadata": {},
     "output_type": "execute_result"
    }
   ],
   "source": [
    "df_train.head()"
   ]
  },
  {
   "cell_type": "code",
   "execution_count": 58,
   "metadata": {},
   "outputs": [
    {
     "name": "stdout",
     "output_type": "stream",
     "text": [
      "<class 'pandas.core.frame.DataFrame'>\n",
      "Int64Index: 5992 entries, 0 to 5991\n",
      "Data columns (total 20 columns):\n",
      " #   Column                     Non-Null Count  Dtype  \n",
      "---  ------                     --------------  -----  \n",
      " 0   contract_id                5992 non-null   int64  \n",
      " 1   blocked                    5992 non-null   int64  \n",
      " 2   day_or_month_contract      5992 non-null   float64\n",
      " 3   коичество обращений        5992 non-null   float64\n",
      " 4   url                        5992 non-null   float64\n",
      " 5   обращение в службу заботы  5992 non-null   float64\n",
      " 6   Включена_20%_скидка        5992 non-null   float64\n",
      " 7   Возвращение_клиента        5992 non-null   float64\n",
      " 8   Изменение_схемы_оплаты     5992 non-null   float64\n",
      " 9   Предложение_ТВ_пакета      5992 non-null   float64\n",
      " 10  тип обращений              5992 non-null   object \n",
      " 11  даты_обращений             5992 non-null   object \n",
      " 12  df_log_time_max            5992 non-null   object \n",
      " 13  df_log_time_min            5992 non-null   object \n",
      " 14  df_named_max               5992 non-null   object \n",
      " 15  df_named_min               5992 non-null   object \n",
      " 16  1                          2915 non-null   float64\n",
      " 17  2                          3809 non-null   float64\n",
      " 18  3                          1968 non-null   float64\n",
      " 19  4                          1968 non-null   float64\n",
      "dtypes: float64(12), int64(2), object(6)\n",
      "memory usage: 983.1+ KB\n"
     ]
    }
   ],
   "source": [
    "df_train.info()"
   ]
  },
  {
   "cell_type": "markdown",
   "metadata": {},
   "source": [
    "посмотрим на распределение величин"
   ]
  },
  {
   "cell_type": "code",
   "execution_count": 59,
   "metadata": {},
   "outputs": [
    {
     "data": {
      "image/png": "[encoded data removed]",
      "text/plain": [
       "<Figure size 1440x864 with 16 Axes>"
      ]
     },
     "metadata": {
      "needs_background": "light"
     },
     "output_type": "display_data"
    }
   ],
   "source": [
    "_ = df_train[df_train.columns].hist(figsize=(20,12))"
   ]
  },
  {
   "cell_type": "code",
   "execution_count": 60,
   "metadata": {
    "colab": {
     "base_uri": "https://localhost:8080/",
     "height": 850
    },
    "id": "TwtfWDihUyvT",
    "outputId": "f1e92969-51cc-4f0e-8b59-a0db98378256"
   },
   "outputs": [
    {
     "data": {
      "image/png": "[encoded data removed]",
      "text/plain": [
       "<Figure size 1080x1080 with 2 Axes>"
      ]
     },
     "metadata": {
      "needs_background": "light"
     },
     "output_type": "display_data"
    }
   ],
   "source": [
    "plt.rcParams['figure.figsize']=(15,15)\n",
    "\n",
    "corr = df_train.corr()\n",
    "g = sns.heatmap(corr, square = True, annot=True)"
   ]
  },
  {
   "cell_type": "markdown",
   "metadata": {
    "id": "870l_9AGdTvF"
   },
   "source": [
    "## Выделим выборки"
   ]
  },
  {
   "cell_type": "code",
   "execution_count": 61,
   "metadata": {},
   "outputs": [
    {
     "data": {
      "text/plain": [
       "array(['тип обращений', 'даты_обращений', 'df_log_time_max',\n",
       "       'df_log_time_min', 'df_named_max', 'df_named_min'], dtype=object)"
      ]
     },
     "execution_count": 61,
     "metadata": {},
     "output_type": "execute_result"
    }
   ],
   "source": [
    "cat_features = df_train.dtypes[df_train.dtypes == \"object\"].index.values\n",
    "cat_features"
   ]
  },
  {
   "cell_type": "code",
   "execution_count": 62,
   "metadata": {
    "id": "R4fN_sD-dGSG"
   },
   "outputs": [],
   "source": [
    "X = df_train.drop([\"contract_id\", \"blocked\"], axis = 1)\n",
    "y = df_train[[\"blocked\"]]"
   ]
  },
  {
   "cell_type": "code",
   "execution_count": 63,
   "metadata": {
    "colab": {
     "base_uri": "https://localhost:8080/"
    },
    "id": "Xbgef81UdZJL",
    "outputId": "5c498b19-8177-45fd-c34a-33ee3bd9089c"
   },
   "outputs": [
    {
     "name": "stdout",
     "output_type": "stream",
     "text": [
      "<class 'pandas.core.frame.DataFrame'>\n",
      "Int64Index: 5992 entries, 0 to 5991\n",
      "Data columns (total 18 columns):\n",
      " #   Column                     Non-Null Count  Dtype  \n",
      "---  ------                     --------------  -----  \n",
      " 0   day_or_month_contract      5992 non-null   float64\n",
      " 1   коичество обращений        5992 non-null   float64\n",
      " 2   url                        5992 non-null   float64\n",
      " 3   обращение в службу заботы  5992 non-null   float64\n",
      " 4   Включена_20%_скидка        5992 non-null   float64\n",
      " 5   Возвращение_клиента        5992 non-null   float64\n",
      " 6   Изменение_схемы_оплаты     5992 non-null   float64\n",
      " 7   Предложение_ТВ_пакета      5992 non-null   float64\n",
      " 8   тип обращений              5992 non-null   object \n",
      " 9   даты_обращений             5992 non-null   object \n",
      " 10  df_log_time_max            5992 non-null   object \n",
      " 11  df_log_time_min            5992 non-null   object \n",
      " 12  df_named_max               5992 non-null   object \n",
      " 13  df_named_min               5992 non-null   object \n",
      " 14  1                          2915 non-null   float64\n",
      " 15  2                          3809 non-null   float64\n",
      " 16  3                          1968 non-null   float64\n",
      " 17  4                          1968 non-null   float64\n",
      "dtypes: float64(12), object(6)\n",
      "memory usage: 889.4+ KB\n"
     ]
    }
   ],
   "source": [
    "X.info()"
   ]
  },
  {
   "cell_type": "code",
   "execution_count": 64,
   "metadata": {
    "id": "_e7ZJ3QjdZLW"
   },
   "outputs": [],
   "source": [
    "X_train, X_test, y_train, y_test = train_test_split(X, y, test_size=0.4, random_state=42, stratify = y)"
   ]
  },
  {
   "cell_type": "code",
   "execution_count": 65,
   "metadata": {},
   "outputs": [],
   "source": [
    "X_val, X_test, y_val, y_test = train_test_split(X_test, y_test, test_size=0.5, random_state=42, stratify = y_test)"
   ]
  },
  {
   "cell_type": "markdown",
   "metadata": {
    "id": "wWOMlu5megED"
   },
   "source": [
    "## Обучение модели"
   ]
  },
  {
   "cell_type": "markdown",
   "metadata": {},
   "source": [
    "### Catboost"
   ]
  },
  {
   "cell_type": "code",
   "execution_count": 66,
   "metadata": {},
   "outputs": [
    {
     "data": {
      "application/vnd.jupyter.widget-view+json": {
       "model_id": "0fae5f8cc1ae46bba0ea987581b9c0ed",
       "version_major": 2,
       "version_minor": 0
      },
      "text/plain": [
       "MetricVisualizer(layout=Layout(align_self='stretch', height='500px'))"
      ]
     },
     "metadata": {},
     "output_type": "display_data"
    },
    {
     "name": "stdout",
     "output_type": "stream",
     "text": [
      "Learning rate set to 0.054284\n",
      "0:\tlearn: 0.6823739\ttest: 0.6851769\tbest: 0.6851769 (0)\ttotal: 440ms\tremaining: 4m 23s\n",
      "100:\tlearn: 0.4807463\ttest: 0.5891444\tbest: 0.5874197 (73)\ttotal: 5.09s\tremaining: 25.2s\n",
      "200:\tlearn: 0.4181920\ttest: 0.6067456\tbest: 0.5848985 (144)\ttotal: 9.55s\tremaining: 19s\n",
      "300:\tlearn: 0.3722987\ttest: 0.6312916\tbest: 0.5848985 (144)\ttotal: 13.9s\tremaining: 13.8s\n",
      "400:\tlearn: 0.3420084\ttest: 0.6605833\tbest: 0.5848985 (144)\ttotal: 18.2s\tremaining: 9.05s\n",
      "500:\tlearn: 0.3187509\ttest: 0.6828101\tbest: 0.5848985 (144)\ttotal: 22.5s\tremaining: 4.46s\n",
      "599:\tlearn: 0.2977037\ttest: 0.7202843\tbest: 0.5848985 (144)\ttotal: 28s\tremaining: 0us\n",
      "\n",
      "bestTest = 0.5848984681\n",
      "bestIteration = 144\n",
      "\n",
      "Shrink model to first 145 iterations.\n"
     ]
    },
    {
     "data": {
      "text/plain": [
       "<catboost.core.CatBoostClassifier at 0x2000312ddc0>"
      ]
     },
     "execution_count": 66,
     "metadata": {},
     "output_type": "execute_result"
    }
   ],
   "source": [
    "from sklearn.utils.class_weight import compute_class_weight\n",
    "classes = np.unique(y)\n",
    "weights = compute_class_weight(class_weight='balanced', classes=np.unique(y_train),\n",
    "y=y_train.values.reshape(-1))\n",
    "class_weights = dict(zip(classes, weights))\n",
    "\n",
    "\n",
    "from catboost import CatBoostClassifier\n",
    "clf = CatBoostClassifier(iterations=600, verbose = 100, class_weights=class_weights)\n",
    "clf.fit(X_train, y_train, cat_features = cat_features, eval_set=(X_val, y_val), plot = True)"
   ]
  },
  {
   "cell_type": "markdown",
   "metadata": {},
   "source": [
    "посмотрим основные параметры модели"
   ]
  },
  {
   "cell_type": "code",
   "execution_count": 67,
   "metadata": {},
   "outputs": [
    {
     "name": "stdout",
     "output_type": "stream",
     "text": [
      "nan_mode, Min\n",
      "eval_metric, Logloss\n",
      "combinations_ctr, ['Borders:CtrBorderCount=15:CtrBorderType=Uniform:TargetBorderCount=1:TargetBorderType=MinEntropy:Prior=0/1:Prior=0.5/1:Prior=1/1', 'Counter:CtrBorderCount=15:CtrBorderType=Uniform:Prior=0/1']\n",
      "iterations, 600\n",
      "sampling_frequency, PerTree\n",
      "fold_permutation_block, 0\n",
      "leaf_estimation_method, Newton\n",
      "counter_calc_method, SkipTest\n",
      "grow_policy, SymmetricTree\n",
      "penalties_coefficient, 1\n",
      "boosting_type, Plain\n",
      "model_shrink_mode, Constant\n",
      "feature_border_type, GreedyLogSum\n",
      "ctr_leaf_count_limit, 18446744073709551615\n",
      "bayesian_matrix_reg, 0.10000000149011612\n",
      "one_hot_max_size, 2\n",
      "force_unit_auto_pair_weights, False\n",
      "l2_leaf_reg, 3\n",
      "random_strength, 1\n",
      "rsm, 1\n",
      "boost_from_average, False\n",
      "max_ctr_complexity, 4\n",
      "model_size_reg, 0.5\n",
      "simple_ctr, ['Borders:CtrBorderCount=15:CtrBorderType=Uniform:TargetBorderCount=1:TargetBorderType=MinEntropy:Prior=0/1:Prior=0.5/1:Prior=1/1', 'Counter:CtrBorderCount=15:CtrBorderType=Uniform:Prior=0/1']\n",
      "pool_metainfo_options, {'tags': {}}\n",
      "subsample, 0.800000011920929\n",
      "use_best_model, True\n",
      "class_names, [0, 1]\n",
      "random_seed, 0\n",
      "depth, 6\n",
      "ctr_target_border_count, 1\n",
      "posterior_sampling, False\n",
      "has_time, False\n",
      "store_all_simple_ctr, False\n",
      "border_count, 254\n",
      "class_weights, [0.5659634470939636, 4.289976119995117]\n",
      "classes_count, 0\n",
      "auto_class_weights, None\n",
      "sparse_features_conflict_fraction, 0\n",
      "leaf_estimation_backtracking, AnyImprovement\n",
      "best_model_min_trees, 1\n",
      "model_shrink_rate, 0\n",
      "min_data_in_leaf, 1\n",
      "loss_function, Logloss\n",
      "learning_rate, 0.0542839989066124\n",
      "score_function, Cosine\n",
      "task_type, CPU\n",
      "leaf_estimation_iterations, 10\n",
      "bootstrap_type, MVS\n",
      "max_leaves, 64\n",
      "permutation_count, 4\n"
     ]
    }
   ],
   "source": [
    "for key,value in clf.get_all_params().items():\n",
    "    print('{}, {}'.format(key,value))"
   ]
  },
  {
   "cell_type": "markdown",
   "metadata": {
    "id": "vUPON7vxenEJ"
   },
   "source": [
    "## Оценка точности"
   ]
  },
  {
   "cell_type": "code",
   "execution_count": 68,
   "metadata": {
    "id": "m1g031fzexib"
   },
   "outputs": [],
   "source": [
    "pred = clf.predict(X_test)"
   ]
  },
  {
   "cell_type": "code",
   "execution_count": 69,
   "metadata": {
    "colab": {
     "base_uri": "https://localhost:8080/",
     "height": 143
    },
    "id": "kBiihKwKe9AB",
    "outputId": "3e0bad0e-eaa6-4d4a-8c92-8eeea45ca7eb"
   },
   "outputs": [
    {
     "data": {
      "text/html": [
       "<div>\n",
       "<style scoped>\n",
       "    .dataframe tbody tr th:only-of-type {\n",
       "        vertical-align: middle;\n",
       "    }\n",
       "\n",
       "    .dataframe tbody tr th {\n",
       "        vertical-align: top;\n",
       "    }\n",
       "\n",
       "    .dataframe thead th {\n",
       "        text-align: right;\n",
       "    }\n",
       "</style>\n",
       "<table border=\"1\" class=\"dataframe\">\n",
       "  <thead>\n",
       "    <tr style=\"text-align: right;\">\n",
       "      <th></th>\n",
       "      <th>blocked</th>\n",
       "    </tr>\n",
       "  </thead>\n",
       "  <tbody>\n",
       "    <tr>\n",
       "      <th>4331</th>\n",
       "      <td>0</td>\n",
       "    </tr>\n",
       "    <tr>\n",
       "      <th>721</th>\n",
       "      <td>0</td>\n",
       "    </tr>\n",
       "    <tr>\n",
       "      <th>711</th>\n",
       "      <td>0</td>\n",
       "    </tr>\n",
       "  </tbody>\n",
       "</table>\n",
       "</div>"
      ],
      "text/plain": [
       "      blocked\n",
       "4331        0\n",
       "721         0\n",
       "711         0"
      ]
     },
     "execution_count": 69,
     "metadata": {},
     "output_type": "execute_result"
    }
   ],
   "source": [
    "y_test.head(3)"
   ]
  },
  {
   "cell_type": "code",
   "execution_count": 70,
   "metadata": {
    "colab": {
     "base_uri": "https://localhost:8080/"
    },
    "id": "OaySnwRzejpc",
    "outputId": "0dfc1bde-b449-4c72-fce4-73ef92378e90"
   },
   "outputs": [
    {
     "name": "stdout",
     "output_type": "stream",
     "text": [
      "Recall score: 0.7249055712936733\n"
     ]
    }
   ],
   "source": [
    "from sklearn.metrics import recall_score\n",
    "\n",
    "print(\"Recall score:\", recall_score(y_test, pred, average='macro'))"
   ]
  },
  {
   "cell_type": "markdown",
   "metadata": {},
   "source": [
    "посмотрим на важность признаков"
   ]
  },
  {
   "cell_type": "code",
   "execution_count": 71,
   "metadata": {},
   "outputs": [
    {
     "data": {
      "text/html": [
       "<div>\n",
       "<style scoped>\n",
       "    .dataframe tbody tr th:only-of-type {\n",
       "        vertical-align: middle;\n",
       "    }\n",
       "\n",
       "    .dataframe tbody tr th {\n",
       "        vertical-align: top;\n",
       "    }\n",
       "\n",
       "    .dataframe thead th {\n",
       "        text-align: right;\n",
       "    }\n",
       "</style>\n",
       "<table border=\"1\" class=\"dataframe\">\n",
       "  <thead>\n",
       "    <tr style=\"text-align: right;\">\n",
       "      <th></th>\n",
       "      <th>Feature Id</th>\n",
       "      <th>Importances</th>\n",
       "    </tr>\n",
       "  </thead>\n",
       "  <tbody>\n",
       "    <tr>\n",
       "      <th>0</th>\n",
       "      <td>df_named_max</td>\n",
       "      <td>15.552735</td>\n",
       "    </tr>\n",
       "    <tr>\n",
       "      <th>1</th>\n",
       "      <td>df_log_time_max</td>\n",
       "      <td>11.799225</td>\n",
       "    </tr>\n",
       "    <tr>\n",
       "      <th>2</th>\n",
       "      <td>1</td>\n",
       "      <td>11.460490</td>\n",
       "    </tr>\n",
       "    <tr>\n",
       "      <th>3</th>\n",
       "      <td>df_named_min</td>\n",
       "      <td>11.194986</td>\n",
       "    </tr>\n",
       "    <tr>\n",
       "      <th>4</th>\n",
       "      <td>2</td>\n",
       "      <td>10.286212</td>\n",
       "    </tr>\n",
       "    <tr>\n",
       "      <th>5</th>\n",
       "      <td>тип обращений</td>\n",
       "      <td>9.836056</td>\n",
       "    </tr>\n",
       "    <tr>\n",
       "      <th>6</th>\n",
       "      <td>url</td>\n",
       "      <td>7.252899</td>\n",
       "    </tr>\n",
       "    <tr>\n",
       "      <th>7</th>\n",
       "      <td>df_log_time_min</td>\n",
       "      <td>6.705281</td>\n",
       "    </tr>\n",
       "    <tr>\n",
       "      <th>8</th>\n",
       "      <td>4</td>\n",
       "      <td>4.037219</td>\n",
       "    </tr>\n",
       "    <tr>\n",
       "      <th>9</th>\n",
       "      <td>3</td>\n",
       "      <td>3.829104</td>\n",
       "    </tr>\n",
       "    <tr>\n",
       "      <th>10</th>\n",
       "      <td>day_or_month_contract</td>\n",
       "      <td>2.627841</td>\n",
       "    </tr>\n",
       "    <tr>\n",
       "      <th>11</th>\n",
       "      <td>коичество обращений</td>\n",
       "      <td>2.600032</td>\n",
       "    </tr>\n",
       "    <tr>\n",
       "      <th>12</th>\n",
       "      <td>обращение в службу заботы</td>\n",
       "      <td>2.261637</td>\n",
       "    </tr>\n",
       "    <tr>\n",
       "      <th>13</th>\n",
       "      <td>Предложение_ТВ_пакета</td>\n",
       "      <td>0.400550</td>\n",
       "    </tr>\n",
       "    <tr>\n",
       "      <th>14</th>\n",
       "      <td>Возвращение_клиента</td>\n",
       "      <td>0.142480</td>\n",
       "    </tr>\n",
       "    <tr>\n",
       "      <th>15</th>\n",
       "      <td>даты_обращений</td>\n",
       "      <td>0.011409</td>\n",
       "    </tr>\n",
       "    <tr>\n",
       "      <th>16</th>\n",
       "      <td>Включена_20%_скидка</td>\n",
       "      <td>0.001843</td>\n",
       "    </tr>\n",
       "    <tr>\n",
       "      <th>17</th>\n",
       "      <td>Изменение_схемы_оплаты</td>\n",
       "      <td>0.000000</td>\n",
       "    </tr>\n",
       "  </tbody>\n",
       "</table>\n",
       "</div>"
      ],
      "text/plain": [
       "                   Feature Id  Importances\n",
       "0                df_named_max    15.552735\n",
       "1             df_log_time_max    11.799225\n",
       "2                           1    11.460490\n",
       "3                df_named_min    11.194986\n",
       "4                           2    10.286212\n",
       "5               тип обращений     9.836056\n",
       "6                         url     7.252899\n",
       "7             df_log_time_min     6.705281\n",
       "8                           4     4.037219\n",
       "9                           3     3.829104\n",
       "10      day_or_month_contract     2.627841\n",
       "11        коичество обращений     2.600032\n",
       "12  обращение в службу заботы     2.261637\n",
       "13      Предложение_ТВ_пакета     0.400550\n",
       "14        Возвращение_клиента     0.142480\n",
       "15             даты_обращений     0.011409\n",
       "16        Включена_20%_скидка     0.001843\n",
       "17     Изменение_схемы_оплаты     0.000000"
      ]
     },
     "execution_count": 71,
     "metadata": {},
     "output_type": "execute_result"
    }
   ],
   "source": [
    "clf.get_feature_importance(prettified=True)"
   ]
  },
  {
   "cell_type": "markdown",
   "metadata": {},
   "source": [
    "## Создание файла с ответом"
   ]
  },
  {
   "cell_type": "code",
   "execution_count": 72,
   "metadata": {},
   "outputs": [
    {
     "data": {
      "text/html": [
       "<div>\n",
       "<style scoped>\n",
       "    .dataframe tbody tr th:only-of-type {\n",
       "        vertical-align: middle;\n",
       "    }\n",
       "\n",
       "    .dataframe tbody tr th {\n",
       "        vertical-align: top;\n",
       "    }\n",
       "\n",
       "    .dataframe thead th {\n",
       "        text-align: right;\n",
       "    }\n",
       "</style>\n",
       "<table border=\"1\" class=\"dataframe\">\n",
       "  <thead>\n",
       "    <tr style=\"text-align: right;\">\n",
       "      <th></th>\n",
       "      <th>contract_id</th>\n",
       "      <th>blocked</th>\n",
       "      <th>day_or_month_contract</th>\n",
       "    </tr>\n",
       "  </thead>\n",
       "  <tbody>\n",
       "    <tr>\n",
       "      <th>0</th>\n",
       "      <td>3453</td>\n",
       "      <td>0</td>\n",
       "      <td>0</td>\n",
       "    </tr>\n",
       "    <tr>\n",
       "      <th>1</th>\n",
       "      <td>3454</td>\n",
       "      <td>0</td>\n",
       "      <td>1</td>\n",
       "    </tr>\n",
       "    <tr>\n",
       "      <th>2</th>\n",
       "      <td>3455</td>\n",
       "      <td>0</td>\n",
       "      <td>1</td>\n",
       "    </tr>\n",
       "  </tbody>\n",
       "</table>\n",
       "</div>"
      ],
      "text/plain": [
       "   contract_id  blocked  day_or_month_contract\n",
       "0         3453        0                      0\n",
       "1         3454        0                      1\n",
       "2         3455        0                      1"
      ]
     },
     "execution_count": 72,
     "metadata": {},
     "output_type": "execute_result"
    }
   ],
   "source": [
    "df_sample = pd.merge(df_sample_solution, df_type_contract , on=\"contract_id\", how='left').drop_duplicates(subset=\"contract_id\")\n",
    "\n",
    "df_sample.head(3)"
   ]
  },
  {
   "cell_type": "code",
   "execution_count": 73,
   "metadata": {},
   "outputs": [
    {
     "data": {
      "text/html": [
       "<div>\n",
       "<style scoped>\n",
       "    .dataframe tbody tr th:only-of-type {\n",
       "        vertical-align: middle;\n",
       "    }\n",
       "\n",
       "    .dataframe tbody tr th {\n",
       "        vertical-align: top;\n",
       "    }\n",
       "\n",
       "    .dataframe thead th {\n",
       "        text-align: right;\n",
       "    }\n",
       "</style>\n",
       "<table border=\"1\" class=\"dataframe\">\n",
       "  <thead>\n",
       "    <tr style=\"text-align: right;\">\n",
       "      <th></th>\n",
       "      <th>contract_id</th>\n",
       "      <th>blocked</th>\n",
       "      <th>day_or_month_contract</th>\n",
       "      <th>event_date</th>\n",
       "    </tr>\n",
       "  </thead>\n",
       "  <tbody>\n",
       "    <tr>\n",
       "      <th>0</th>\n",
       "      <td>3453</td>\n",
       "      <td>0</td>\n",
       "      <td>0</td>\n",
       "      <td>1.0</td>\n",
       "    </tr>\n",
       "    <tr>\n",
       "      <th>1</th>\n",
       "      <td>3454</td>\n",
       "      <td>0</td>\n",
       "      <td>1</td>\n",
       "      <td>1.0</td>\n",
       "    </tr>\n",
       "    <tr>\n",
       "      <th>2</th>\n",
       "      <td>3455</td>\n",
       "      <td>0</td>\n",
       "      <td>1</td>\n",
       "      <td>NaN</td>\n",
       "    </tr>\n",
       "  </tbody>\n",
       "</table>\n",
       "</div>"
      ],
      "text/plain": [
       "   contract_id  blocked  day_or_month_contract  event_date\n",
       "0         3453        0                      0         1.0\n",
       "1         3454        0                      1         1.0\n",
       "2         3455        0                      1         NaN"
      ]
     },
     "execution_count": 73,
     "metadata": {},
     "output_type": "execute_result"
    }
   ],
   "source": [
    "df_sample = pd.merge(df_sample, count_log , on=\"contract_id\", how='left').drop([\"event_type\"],axis =1)\n",
    "df_sample.head(3)"
   ]
  },
  {
   "cell_type": "code",
   "execution_count": 74,
   "metadata": {},
   "outputs": [],
   "source": [
    "df_sample.rename(columns={'event_date': 'коичество обращений'}, inplace=True)"
   ]
  },
  {
   "cell_type": "code",
   "execution_count": 75,
   "metadata": {},
   "outputs": [
    {
     "data": {
      "text/html": [
       "<div>\n",
       "<style scoped>\n",
       "    .dataframe tbody tr th:only-of-type {\n",
       "        vertical-align: middle;\n",
       "    }\n",
       "\n",
       "    .dataframe tbody tr th {\n",
       "        vertical-align: top;\n",
       "    }\n",
       "\n",
       "    .dataframe thead th {\n",
       "        text-align: right;\n",
       "    }\n",
       "</style>\n",
       "<table border=\"1\" class=\"dataframe\">\n",
       "  <thead>\n",
       "    <tr style=\"text-align: right;\">\n",
       "      <th></th>\n",
       "      <th>contract_id</th>\n",
       "      <th>blocked</th>\n",
       "      <th>day_or_month_contract</th>\n",
       "      <th>коичество обращений</th>\n",
       "      <th>url</th>\n",
       "    </tr>\n",
       "  </thead>\n",
       "  <tbody>\n",
       "    <tr>\n",
       "      <th>0</th>\n",
       "      <td>3453</td>\n",
       "      <td>0</td>\n",
       "      <td>0</td>\n",
       "      <td>1.0</td>\n",
       "      <td>NaN</td>\n",
       "    </tr>\n",
       "    <tr>\n",
       "      <th>1</th>\n",
       "      <td>3454</td>\n",
       "      <td>0</td>\n",
       "      <td>1</td>\n",
       "      <td>1.0</td>\n",
       "      <td>NaN</td>\n",
       "    </tr>\n",
       "    <tr>\n",
       "      <th>2</th>\n",
       "      <td>3455</td>\n",
       "      <td>0</td>\n",
       "      <td>1</td>\n",
       "      <td>NaN</td>\n",
       "      <td>24.0</td>\n",
       "    </tr>\n",
       "  </tbody>\n",
       "</table>\n",
       "</div>"
      ],
      "text/plain": [
       "   contract_id  blocked  day_or_month_contract  коичество обращений   url\n",
       "0         3453        0                      0                  1.0   NaN\n",
       "1         3454        0                      1                  1.0   NaN\n",
       "2         3455        0                      1                  NaN  24.0"
      ]
     },
     "execution_count": 75,
     "metadata": {},
     "output_type": "execute_result"
    }
   ],
   "source": [
    "df_sample = pd.merge(df_sample, count_competitors , on=\"contract_id\", how='left').drop([\"date\"],axis =1)\n",
    "df_sample.head(3)"
   ]
  },
  {
   "cell_type": "code",
   "execution_count": 76,
   "metadata": {},
   "outputs": [
    {
     "data": {
      "text/html": [
       "<div>\n",
       "<style scoped>\n",
       "    .dataframe tbody tr th:only-of-type {\n",
       "        vertical-align: middle;\n",
       "    }\n",
       "\n",
       "    .dataframe tbody tr th {\n",
       "        vertical-align: top;\n",
       "    }\n",
       "\n",
       "    .dataframe thead th {\n",
       "        text-align: right;\n",
       "    }\n",
       "</style>\n",
       "<table border=\"1\" class=\"dataframe\">\n",
       "  <thead>\n",
       "    <tr style=\"text-align: right;\">\n",
       "      <th></th>\n",
       "      <th>contract_id</th>\n",
       "      <th>blocked</th>\n",
       "      <th>day_or_month_contract</th>\n",
       "      <th>коичество обращений</th>\n",
       "      <th>url</th>\n",
       "      <th>event_type</th>\n",
       "    </tr>\n",
       "  </thead>\n",
       "  <tbody>\n",
       "    <tr>\n",
       "      <th>0</th>\n",
       "      <td>3453</td>\n",
       "      <td>0</td>\n",
       "      <td>0</td>\n",
       "      <td>1.0</td>\n",
       "      <td>NaN</td>\n",
       "      <td>NaN</td>\n",
       "    </tr>\n",
       "    <tr>\n",
       "      <th>1</th>\n",
       "      <td>3454</td>\n",
       "      <td>0</td>\n",
       "      <td>1</td>\n",
       "      <td>1.0</td>\n",
       "      <td>NaN</td>\n",
       "      <td>NaN</td>\n",
       "    </tr>\n",
       "    <tr>\n",
       "      <th>2</th>\n",
       "      <td>3455</td>\n",
       "      <td>0</td>\n",
       "      <td>1</td>\n",
       "      <td>NaN</td>\n",
       "      <td>24.0</td>\n",
       "      <td>NaN</td>\n",
       "    </tr>\n",
       "  </tbody>\n",
       "</table>\n",
       "</div>"
      ],
      "text/plain": [
       "   contract_id  blocked  day_or_month_contract  коичество обращений   url  \\\n",
       "0         3453        0                      0                  1.0   NaN   \n",
       "1         3454        0                      1                  1.0   NaN   \n",
       "2         3455        0                      1                  NaN  24.0   \n",
       "\n",
       "   event_type  \n",
       "0         NaN  \n",
       "1         NaN  \n",
       "2         NaN  "
      ]
     },
     "execution_count": 76,
     "metadata": {},
     "output_type": "execute_result"
    }
   ],
   "source": [
    "df_sample = pd.merge(df_sample, count_event, on=\"contract_id\", how='left')\n",
    "df_sample.head(3)"
   ]
  },
  {
   "cell_type": "code",
   "execution_count": 77,
   "metadata": {},
   "outputs": [],
   "source": [
    "df_sample.rename(columns={'event_type': 'обращение в службу заботы'}, inplace=True)"
   ]
  },
  {
   "cell_type": "code",
   "execution_count": 78,
   "metadata": {},
   "outputs": [
    {
     "data": {
      "text/html": [
       "<div>\n",
       "<style scoped>\n",
       "    .dataframe tbody tr th:only-of-type {\n",
       "        vertical-align: middle;\n",
       "    }\n",
       "\n",
       "    .dataframe tbody tr th {\n",
       "        vertical-align: top;\n",
       "    }\n",
       "\n",
       "    .dataframe thead th {\n",
       "        text-align: right;\n",
       "    }\n",
       "</style>\n",
       "<table border=\"1\" class=\"dataframe\">\n",
       "  <thead>\n",
       "    <tr style=\"text-align: right;\">\n",
       "      <th></th>\n",
       "      <th>contract_id</th>\n",
       "      <th>blocked</th>\n",
       "      <th>day_or_month_contract</th>\n",
       "      <th>коичество обращений</th>\n",
       "      <th>url</th>\n",
       "      <th>обращение в службу заботы</th>\n",
       "      <th>event_type</th>\n",
       "    </tr>\n",
       "  </thead>\n",
       "  <tbody>\n",
       "    <tr>\n",
       "      <th>0</th>\n",
       "      <td>3453</td>\n",
       "      <td>0</td>\n",
       "      <td>0</td>\n",
       "      <td>1.0</td>\n",
       "      <td>NaN</td>\n",
       "      <td>NaN</td>\n",
       "      <td>NaN</td>\n",
       "    </tr>\n",
       "    <tr>\n",
       "      <th>1</th>\n",
       "      <td>3454</td>\n",
       "      <td>0</td>\n",
       "      <td>1</td>\n",
       "      <td>1.0</td>\n",
       "      <td>NaN</td>\n",
       "      <td>NaN</td>\n",
       "      <td>NaN</td>\n",
       "    </tr>\n",
       "    <tr>\n",
       "      <th>2</th>\n",
       "      <td>3455</td>\n",
       "      <td>0</td>\n",
       "      <td>1</td>\n",
       "      <td>NaN</td>\n",
       "      <td>24.0</td>\n",
       "      <td>NaN</td>\n",
       "      <td>NaN</td>\n",
       "    </tr>\n",
       "  </tbody>\n",
       "</table>\n",
       "</div>"
      ],
      "text/plain": [
       "   contract_id  blocked  day_or_month_contract  коичество обращений   url  \\\n",
       "0         3453        0                      0                  1.0   NaN   \n",
       "1         3454        0                      1                  1.0   NaN   \n",
       "2         3455        0                      1                  NaN  24.0   \n",
       "\n",
       "   обращение в службу заботы  event_type  \n",
       "0                        NaN         NaN  \n",
       "1                        NaN         NaN  \n",
       "2                        NaN         NaN  "
      ]
     },
     "execution_count": 78,
     "metadata": {},
     "output_type": "execute_result"
    }
   ],
   "source": [
    "df_sample = pd.merge(df_sample, count_event4, on=\"contract_id\", how='left')\n",
    "df_sample.head(3)"
   ]
  },
  {
   "cell_type": "code",
   "execution_count": 79,
   "metadata": {},
   "outputs": [],
   "source": [
    "df_sample.rename(columns={'event_type': 'Включена_20%_скидка'}, inplace=True)"
   ]
  },
  {
   "cell_type": "code",
   "execution_count": 80,
   "metadata": {},
   "outputs": [
    {
     "data": {
      "text/html": [
       "<div>\n",
       "<style scoped>\n",
       "    .dataframe tbody tr th:only-of-type {\n",
       "        vertical-align: middle;\n",
       "    }\n",
       "\n",
       "    .dataframe tbody tr th {\n",
       "        vertical-align: top;\n",
       "    }\n",
       "\n",
       "    .dataframe thead th {\n",
       "        text-align: right;\n",
       "    }\n",
       "</style>\n",
       "<table border=\"1\" class=\"dataframe\">\n",
       "  <thead>\n",
       "    <tr style=\"text-align: right;\">\n",
       "      <th></th>\n",
       "      <th>contract_id</th>\n",
       "      <th>blocked</th>\n",
       "      <th>day_or_month_contract</th>\n",
       "      <th>коичество обращений</th>\n",
       "      <th>url</th>\n",
       "      <th>обращение в службу заботы</th>\n",
       "      <th>Включена_20%_скидка</th>\n",
       "      <th>event_type</th>\n",
       "    </tr>\n",
       "  </thead>\n",
       "  <tbody>\n",
       "    <tr>\n",
       "      <th>0</th>\n",
       "      <td>3453</td>\n",
       "      <td>0</td>\n",
       "      <td>0</td>\n",
       "      <td>1.0</td>\n",
       "      <td>NaN</td>\n",
       "      <td>NaN</td>\n",
       "      <td>NaN</td>\n",
       "      <td>NaN</td>\n",
       "    </tr>\n",
       "    <tr>\n",
       "      <th>1</th>\n",
       "      <td>3454</td>\n",
       "      <td>0</td>\n",
       "      <td>1</td>\n",
       "      <td>1.0</td>\n",
       "      <td>NaN</td>\n",
       "      <td>NaN</td>\n",
       "      <td>NaN</td>\n",
       "      <td>NaN</td>\n",
       "    </tr>\n",
       "    <tr>\n",
       "      <th>2</th>\n",
       "      <td>3455</td>\n",
       "      <td>0</td>\n",
       "      <td>1</td>\n",
       "      <td>NaN</td>\n",
       "      <td>24.0</td>\n",
       "      <td>NaN</td>\n",
       "      <td>NaN</td>\n",
       "      <td>NaN</td>\n",
       "    </tr>\n",
       "  </tbody>\n",
       "</table>\n",
       "</div>"
      ],
      "text/plain": [
       "   contract_id  blocked  day_or_month_contract  коичество обращений   url  \\\n",
       "0         3453        0                      0                  1.0   NaN   \n",
       "1         3454        0                      1                  1.0   NaN   \n",
       "2         3455        0                      1                  NaN  24.0   \n",
       "\n",
       "   обращение в службу заботы  Включена_20%_скидка  event_type  \n",
       "0                        NaN                  NaN         NaN  \n",
       "1                        NaN                  NaN         NaN  \n",
       "2                        NaN                  NaN         NaN  "
      ]
     },
     "execution_count": 80,
     "metadata": {},
     "output_type": "execute_result"
    }
   ],
   "source": [
    "df_sample = pd.merge(df_sample, count_event5, on=\"contract_id\", how='left')\n",
    "df_sample.head(3)"
   ]
  },
  {
   "cell_type": "code",
   "execution_count": 81,
   "metadata": {},
   "outputs": [],
   "source": [
    "df_sample.rename(columns={'event_type': 'Возвращение_клиента'}, inplace=True)"
   ]
  },
  {
   "cell_type": "code",
   "execution_count": 82,
   "metadata": {},
   "outputs": [
    {
     "data": {
      "text/html": [
       "<div>\n",
       "<style scoped>\n",
       "    .dataframe tbody tr th:only-of-type {\n",
       "        vertical-align: middle;\n",
       "    }\n",
       "\n",
       "    .dataframe tbody tr th {\n",
       "        vertical-align: top;\n",
       "    }\n",
       "\n",
       "    .dataframe thead th {\n",
       "        text-align: right;\n",
       "    }\n",
       "</style>\n",
       "<table border=\"1\" class=\"dataframe\">\n",
       "  <thead>\n",
       "    <tr style=\"text-align: right;\">\n",
       "      <th></th>\n",
       "      <th>contract_id</th>\n",
       "      <th>blocked</th>\n",
       "      <th>day_or_month_contract</th>\n",
       "      <th>коичество обращений</th>\n",
       "      <th>url</th>\n",
       "      <th>обращение в службу заботы</th>\n",
       "      <th>Включена_20%_скидка</th>\n",
       "      <th>Возвращение_клиента</th>\n",
       "      <th>event_type</th>\n",
       "    </tr>\n",
       "  </thead>\n",
       "  <tbody>\n",
       "    <tr>\n",
       "      <th>0</th>\n",
       "      <td>3453</td>\n",
       "      <td>0</td>\n",
       "      <td>0</td>\n",
       "      <td>1.0</td>\n",
       "      <td>NaN</td>\n",
       "      <td>NaN</td>\n",
       "      <td>NaN</td>\n",
       "      <td>NaN</td>\n",
       "      <td>NaN</td>\n",
       "    </tr>\n",
       "    <tr>\n",
       "      <th>1</th>\n",
       "      <td>3454</td>\n",
       "      <td>0</td>\n",
       "      <td>1</td>\n",
       "      <td>1.0</td>\n",
       "      <td>NaN</td>\n",
       "      <td>NaN</td>\n",
       "      <td>NaN</td>\n",
       "      <td>NaN</td>\n",
       "      <td>NaN</td>\n",
       "    </tr>\n",
       "    <tr>\n",
       "      <th>2</th>\n",
       "      <td>3455</td>\n",
       "      <td>0</td>\n",
       "      <td>1</td>\n",
       "      <td>NaN</td>\n",
       "      <td>24.0</td>\n",
       "      <td>NaN</td>\n",
       "      <td>NaN</td>\n",
       "      <td>NaN</td>\n",
       "      <td>NaN</td>\n",
       "    </tr>\n",
       "  </tbody>\n",
       "</table>\n",
       "</div>"
      ],
      "text/plain": [
       "   contract_id  blocked  day_or_month_contract  коичество обращений   url  \\\n",
       "0         3453        0                      0                  1.0   NaN   \n",
       "1         3454        0                      1                  1.0   NaN   \n",
       "2         3455        0                      1                  NaN  24.0   \n",
       "\n",
       "   обращение в службу заботы  Включена_20%_скидка  Возвращение_клиента  \\\n",
       "0                        NaN                  NaN                  NaN   \n",
       "1                        NaN                  NaN                  NaN   \n",
       "2                        NaN                  NaN                  NaN   \n",
       "\n",
       "   event_type  \n",
       "0         NaN  \n",
       "1         NaN  \n",
       "2         NaN  "
      ]
     },
     "execution_count": 82,
     "metadata": {},
     "output_type": "execute_result"
    }
   ],
   "source": [
    "df_sample = pd.merge(df_sample, count_event6, on=\"contract_id\", how='left')\n",
    "df_sample.head(3)"
   ]
  },
  {
   "cell_type": "code",
   "execution_count": 83,
   "metadata": {},
   "outputs": [],
   "source": [
    "df_sample.rename(columns={'event_type': 'Изменение_схемы_оплаты'}, inplace=True)"
   ]
  },
  {
   "cell_type": "code",
   "execution_count": 84,
   "metadata": {},
   "outputs": [
    {
     "data": {
      "text/html": [
       "<div>\n",
       "<style scoped>\n",
       "    .dataframe tbody tr th:only-of-type {\n",
       "        vertical-align: middle;\n",
       "    }\n",
       "\n",
       "    .dataframe tbody tr th {\n",
       "        vertical-align: top;\n",
       "    }\n",
       "\n",
       "    .dataframe thead th {\n",
       "        text-align: right;\n",
       "    }\n",
       "</style>\n",
       "<table border=\"1\" class=\"dataframe\">\n",
       "  <thead>\n",
       "    <tr style=\"text-align: right;\">\n",
       "      <th></th>\n",
       "      <th>contract_id</th>\n",
       "      <th>blocked</th>\n",
       "      <th>day_or_month_contract</th>\n",
       "      <th>коичество обращений</th>\n",
       "      <th>url</th>\n",
       "      <th>обращение в службу заботы</th>\n",
       "      <th>Включена_20%_скидка</th>\n",
       "      <th>Возвращение_клиента</th>\n",
       "      <th>Изменение_схемы_оплаты</th>\n",
       "      <th>event_type</th>\n",
       "    </tr>\n",
       "  </thead>\n",
       "  <tbody>\n",
       "    <tr>\n",
       "      <th>0</th>\n",
       "      <td>3453</td>\n",
       "      <td>0</td>\n",
       "      <td>0</td>\n",
       "      <td>1.0</td>\n",
       "      <td>NaN</td>\n",
       "      <td>NaN</td>\n",
       "      <td>NaN</td>\n",
       "      <td>NaN</td>\n",
       "      <td>NaN</td>\n",
       "      <td>NaN</td>\n",
       "    </tr>\n",
       "    <tr>\n",
       "      <th>1</th>\n",
       "      <td>3454</td>\n",
       "      <td>0</td>\n",
       "      <td>1</td>\n",
       "      <td>1.0</td>\n",
       "      <td>NaN</td>\n",
       "      <td>NaN</td>\n",
       "      <td>NaN</td>\n",
       "      <td>NaN</td>\n",
       "      <td>NaN</td>\n",
       "      <td>NaN</td>\n",
       "    </tr>\n",
       "    <tr>\n",
       "      <th>2</th>\n",
       "      <td>3455</td>\n",
       "      <td>0</td>\n",
       "      <td>1</td>\n",
       "      <td>NaN</td>\n",
       "      <td>24.0</td>\n",
       "      <td>NaN</td>\n",
       "      <td>NaN</td>\n",
       "      <td>NaN</td>\n",
       "      <td>NaN</td>\n",
       "      <td>NaN</td>\n",
       "    </tr>\n",
       "  </tbody>\n",
       "</table>\n",
       "</div>"
      ],
      "text/plain": [
       "   contract_id  blocked  day_or_month_contract  коичество обращений   url  \\\n",
       "0         3453        0                      0                  1.0   NaN   \n",
       "1         3454        0                      1                  1.0   NaN   \n",
       "2         3455        0                      1                  NaN  24.0   \n",
       "\n",
       "   обращение в службу заботы  Включена_20%_скидка  Возвращение_клиента  \\\n",
       "0                        NaN                  NaN                  NaN   \n",
       "1                        NaN                  NaN                  NaN   \n",
       "2                        NaN                  NaN                  NaN   \n",
       "\n",
       "   Изменение_схемы_оплаты  event_type  \n",
       "0                     NaN         NaN  \n",
       "1                     NaN         NaN  \n",
       "2                     NaN         NaN  "
      ]
     },
     "execution_count": 84,
     "metadata": {},
     "output_type": "execute_result"
    }
   ],
   "source": [
    "df_sample = pd.merge(df_sample, count_event7, on=\"contract_id\", how='left')\n",
    "df_sample.head(3)"
   ]
  },
  {
   "cell_type": "code",
   "execution_count": 85,
   "metadata": {},
   "outputs": [],
   "source": [
    "df_sample.rename(columns={'event_type': 'Предложение_ТВ_пакета'}, inplace=True)"
   ]
  },
  {
   "cell_type": "code",
   "execution_count": 86,
   "metadata": {},
   "outputs": [
    {
     "data": {
      "text/html": [
       "<div>\n",
       "<style scoped>\n",
       "    .dataframe tbody tr th:only-of-type {\n",
       "        vertical-align: middle;\n",
       "    }\n",
       "\n",
       "    .dataframe tbody tr th {\n",
       "        vertical-align: top;\n",
       "    }\n",
       "\n",
       "    .dataframe thead th {\n",
       "        text-align: right;\n",
       "    }\n",
       "</style>\n",
       "<table border=\"1\" class=\"dataframe\">\n",
       "  <thead>\n",
       "    <tr style=\"text-align: right;\">\n",
       "      <th></th>\n",
       "      <th>contract_id</th>\n",
       "      <th>blocked</th>\n",
       "      <th>day_or_month_contract</th>\n",
       "      <th>коичество обращений</th>\n",
       "      <th>url</th>\n",
       "      <th>обращение в службу заботы</th>\n",
       "      <th>Включена_20%_скидка</th>\n",
       "      <th>Возвращение_клиента</th>\n",
       "      <th>Изменение_схемы_оплаты</th>\n",
       "      <th>Предложение_ТВ_пакета</th>\n",
       "      <th>event_type</th>\n",
       "    </tr>\n",
       "  </thead>\n",
       "  <tbody>\n",
       "    <tr>\n",
       "      <th>0</th>\n",
       "      <td>3453</td>\n",
       "      <td>0</td>\n",
       "      <td>0</td>\n",
       "      <td>1.0</td>\n",
       "      <td>NaN</td>\n",
       "      <td>NaN</td>\n",
       "      <td>NaN</td>\n",
       "      <td>NaN</td>\n",
       "      <td>NaN</td>\n",
       "      <td>NaN</td>\n",
       "      <td>Информер ВК. Показ</td>\n",
       "    </tr>\n",
       "    <tr>\n",
       "      <th>1</th>\n",
       "      <td>3454</td>\n",
       "      <td>0</td>\n",
       "      <td>1</td>\n",
       "      <td>1.0</td>\n",
       "      <td>NaN</td>\n",
       "      <td>NaN</td>\n",
       "      <td>NaN</td>\n",
       "      <td>NaN</td>\n",
       "      <td>NaN</td>\n",
       "      <td>NaN</td>\n",
       "      <td>Внутреннее сообщение</td>\n",
       "    </tr>\n",
       "    <tr>\n",
       "      <th>2</th>\n",
       "      <td>3455</td>\n",
       "      <td>0</td>\n",
       "      <td>1</td>\n",
       "      <td>NaN</td>\n",
       "      <td>24.0</td>\n",
       "      <td>NaN</td>\n",
       "      <td>NaN</td>\n",
       "      <td>NaN</td>\n",
       "      <td>NaN</td>\n",
       "      <td>NaN</td>\n",
       "      <td>NaN</td>\n",
       "    </tr>\n",
       "  </tbody>\n",
       "</table>\n",
       "</div>"
      ],
      "text/plain": [
       "   contract_id  blocked  day_or_month_contract  коичество обращений   url  \\\n",
       "0         3453        0                      0                  1.0   NaN   \n",
       "1         3454        0                      1                  1.0   NaN   \n",
       "2         3455        0                      1                  NaN  24.0   \n",
       "\n",
       "   обращение в службу заботы  Включена_20%_скидка  Возвращение_клиента  \\\n",
       "0                        NaN                  NaN                  NaN   \n",
       "1                        NaN                  NaN                  NaN   \n",
       "2                        NaN                  NaN                  NaN   \n",
       "\n",
       "   Изменение_схемы_оплаты  Предложение_ТВ_пакета            event_type  \n",
       "0                     NaN                    NaN    Информер ВК. Показ  \n",
       "1                     NaN                    NaN  Внутреннее сообщение  \n",
       "2                     NaN                    NaN                   NaN  "
      ]
     },
     "execution_count": 86,
     "metadata": {},
     "output_type": "execute_result"
    }
   ],
   "source": [
    "df_sample = pd.merge(df_sample, event_types, on=\"contract_id\", how='left')\n",
    "df_sample.head(3)"
   ]
  },
  {
   "cell_type": "code",
   "execution_count": 87,
   "metadata": {},
   "outputs": [],
   "source": [
    "df_sample.rename(columns={'event_type': 'тип обращений'}, inplace=True)"
   ]
  },
  {
   "cell_type": "code",
   "execution_count": 88,
   "metadata": {},
   "outputs": [
    {
     "data": {
      "text/html": [
       "<div>\n",
       "<style scoped>\n",
       "    .dataframe tbody tr th:only-of-type {\n",
       "        vertical-align: middle;\n",
       "    }\n",
       "\n",
       "    .dataframe tbody tr th {\n",
       "        vertical-align: top;\n",
       "    }\n",
       "\n",
       "    .dataframe thead th {\n",
       "        text-align: right;\n",
       "    }\n",
       "</style>\n",
       "<table border=\"1\" class=\"dataframe\">\n",
       "  <thead>\n",
       "    <tr style=\"text-align: right;\">\n",
       "      <th></th>\n",
       "      <th>contract_id</th>\n",
       "      <th>blocked</th>\n",
       "      <th>day_or_month_contract</th>\n",
       "      <th>коичество обращений</th>\n",
       "      <th>url</th>\n",
       "      <th>обращение в службу заботы</th>\n",
       "      <th>Включена_20%_скидка</th>\n",
       "      <th>Возвращение_клиента</th>\n",
       "      <th>Изменение_схемы_оплаты</th>\n",
       "      <th>Предложение_ТВ_пакета</th>\n",
       "      <th>тип обращений</th>\n",
       "      <th>event_date</th>\n",
       "    </tr>\n",
       "  </thead>\n",
       "  <tbody>\n",
       "    <tr>\n",
       "      <th>0</th>\n",
       "      <td>3453</td>\n",
       "      <td>0</td>\n",
       "      <td>0</td>\n",
       "      <td>1.0</td>\n",
       "      <td>NaN</td>\n",
       "      <td>NaN</td>\n",
       "      <td>NaN</td>\n",
       "      <td>NaN</td>\n",
       "      <td>NaN</td>\n",
       "      <td>NaN</td>\n",
       "      <td>Информер ВК. Показ</td>\n",
       "      <td>21-03-03</td>\n",
       "    </tr>\n",
       "    <tr>\n",
       "      <th>1</th>\n",
       "      <td>3454</td>\n",
       "      <td>0</td>\n",
       "      <td>1</td>\n",
       "      <td>1.0</td>\n",
       "      <td>NaN</td>\n",
       "      <td>NaN</td>\n",
       "      <td>NaN</td>\n",
       "      <td>NaN</td>\n",
       "      <td>NaN</td>\n",
       "      <td>NaN</td>\n",
       "      <td>Внутреннее сообщение</td>\n",
       "      <td>21-04-28</td>\n",
       "    </tr>\n",
       "    <tr>\n",
       "      <th>2</th>\n",
       "      <td>3455</td>\n",
       "      <td>0</td>\n",
       "      <td>1</td>\n",
       "      <td>NaN</td>\n",
       "      <td>24.0</td>\n",
       "      <td>NaN</td>\n",
       "      <td>NaN</td>\n",
       "      <td>NaN</td>\n",
       "      <td>NaN</td>\n",
       "      <td>NaN</td>\n",
       "      <td>NaN</td>\n",
       "      <td>NaN</td>\n",
       "    </tr>\n",
       "  </tbody>\n",
       "</table>\n",
       "</div>"
      ],
      "text/plain": [
       "   contract_id  blocked  day_or_month_contract  коичество обращений   url  \\\n",
       "0         3453        0                      0                  1.0   NaN   \n",
       "1         3454        0                      1                  1.0   NaN   \n",
       "2         3455        0                      1                  NaN  24.0   \n",
       "\n",
       "   обращение в службу заботы  Включена_20%_скидка  Возвращение_клиента  \\\n",
       "0                        NaN                  NaN                  NaN   \n",
       "1                        NaN                  NaN                  NaN   \n",
       "2                        NaN                  NaN                  NaN   \n",
       "\n",
       "   Изменение_схемы_оплаты  Предложение_ТВ_пакета         тип обращений  \\\n",
       "0                     NaN                    NaN    Информер ВК. Показ   \n",
       "1                     NaN                    NaN  Внутреннее сообщение   \n",
       "2                     NaN                    NaN                   NaN   \n",
       "\n",
       "  event_date  \n",
       "0   21-03-03  \n",
       "1   21-04-28  \n",
       "2        NaN  "
      ]
     },
     "execution_count": 88,
     "metadata": {},
     "output_type": "execute_result"
    }
   ],
   "source": [
    "df_sample = pd.merge(df_sample, event_dates, on=\"contract_id\", how='left')\n",
    "df_sample.head(3)"
   ]
  },
  {
   "cell_type": "code",
   "execution_count": 89,
   "metadata": {},
   "outputs": [],
   "source": [
    "df_sample.rename(columns={'event_date': 'даты_обращений'}, inplace=True)"
   ]
  },
  {
   "cell_type": "code",
   "execution_count": 90,
   "metadata": {},
   "outputs": [
    {
     "data": {
      "text/html": [
       "<div>\n",
       "<style scoped>\n",
       "    .dataframe tbody tr th:only-of-type {\n",
       "        vertical-align: middle;\n",
       "    }\n",
       "\n",
       "    .dataframe tbody tr th {\n",
       "        vertical-align: top;\n",
       "    }\n",
       "\n",
       "    .dataframe thead th {\n",
       "        text-align: right;\n",
       "    }\n",
       "</style>\n",
       "<table border=\"1\" class=\"dataframe\">\n",
       "  <thead>\n",
       "    <tr style=\"text-align: right;\">\n",
       "      <th></th>\n",
       "      <th>contract_id</th>\n",
       "      <th>blocked</th>\n",
       "      <th>day_or_month_contract</th>\n",
       "      <th>коичество обращений</th>\n",
       "      <th>url</th>\n",
       "      <th>обращение в службу заботы</th>\n",
       "      <th>Включена_20%_скидка</th>\n",
       "      <th>Возвращение_клиента</th>\n",
       "      <th>Изменение_схемы_оплаты</th>\n",
       "      <th>Предложение_ТВ_пакета</th>\n",
       "      <th>тип обращений</th>\n",
       "      <th>даты_обращений</th>\n",
       "      <th>event_date</th>\n",
       "    </tr>\n",
       "  </thead>\n",
       "  <tbody>\n",
       "    <tr>\n",
       "      <th>0</th>\n",
       "      <td>3453</td>\n",
       "      <td>0</td>\n",
       "      <td>0</td>\n",
       "      <td>1.0</td>\n",
       "      <td>NaN</td>\n",
       "      <td>NaN</td>\n",
       "      <td>NaN</td>\n",
       "      <td>NaN</td>\n",
       "      <td>NaN</td>\n",
       "      <td>NaN</td>\n",
       "      <td>Информер ВК. Показ</td>\n",
       "      <td>21-03-03</td>\n",
       "      <td>21-03-03</td>\n",
       "    </tr>\n",
       "    <tr>\n",
       "      <th>1</th>\n",
       "      <td>3454</td>\n",
       "      <td>0</td>\n",
       "      <td>1</td>\n",
       "      <td>1.0</td>\n",
       "      <td>NaN</td>\n",
       "      <td>NaN</td>\n",
       "      <td>NaN</td>\n",
       "      <td>NaN</td>\n",
       "      <td>NaN</td>\n",
       "      <td>NaN</td>\n",
       "      <td>Внутреннее сообщение</td>\n",
       "      <td>21-04-28</td>\n",
       "      <td>21-04-28</td>\n",
       "    </tr>\n",
       "    <tr>\n",
       "      <th>2</th>\n",
       "      <td>3455</td>\n",
       "      <td>0</td>\n",
       "      <td>1</td>\n",
       "      <td>NaN</td>\n",
       "      <td>24.0</td>\n",
       "      <td>NaN</td>\n",
       "      <td>NaN</td>\n",
       "      <td>NaN</td>\n",
       "      <td>NaN</td>\n",
       "      <td>NaN</td>\n",
       "      <td>NaN</td>\n",
       "      <td>NaN</td>\n",
       "      <td>NaN</td>\n",
       "    </tr>\n",
       "  </tbody>\n",
       "</table>\n",
       "</div>"
      ],
      "text/plain": [
       "   contract_id  blocked  day_or_month_contract  коичество обращений   url  \\\n",
       "0         3453        0                      0                  1.0   NaN   \n",
       "1         3454        0                      1                  1.0   NaN   \n",
       "2         3455        0                      1                  NaN  24.0   \n",
       "\n",
       "   обращение в службу заботы  Включена_20%_скидка  Возвращение_клиента  \\\n",
       "0                        NaN                  NaN                  NaN   \n",
       "1                        NaN                  NaN                  NaN   \n",
       "2                        NaN                  NaN                  NaN   \n",
       "\n",
       "   Изменение_схемы_оплаты  Предложение_ТВ_пакета         тип обращений  \\\n",
       "0                     NaN                    NaN    Информер ВК. Показ   \n",
       "1                     NaN                    NaN  Внутреннее сообщение   \n",
       "2                     NaN                    NaN                   NaN   \n",
       "\n",
       "  даты_обращений event_date  \n",
       "0       21-03-03   21-03-03  \n",
       "1       21-04-28   21-04-28  \n",
       "2            NaN        NaN  "
      ]
     },
     "execution_count": 90,
     "metadata": {},
     "output_type": "execute_result"
    }
   ],
   "source": [
    "df_sample = pd.merge(df_sample, df_log_time_max, on=\"contract_id\", how='left')\n",
    "df_sample.head(3)"
   ]
  },
  {
   "cell_type": "code",
   "execution_count": 91,
   "metadata": {},
   "outputs": [],
   "source": [
    "df_sample.rename(columns={'event_date': 'df_log_time_max'}, inplace=True)"
   ]
  },
  {
   "cell_type": "code",
   "execution_count": 92,
   "metadata": {},
   "outputs": [
    {
     "data": {
      "text/html": [
       "<div>\n",
       "<style scoped>\n",
       "    .dataframe tbody tr th:only-of-type {\n",
       "        vertical-align: middle;\n",
       "    }\n",
       "\n",
       "    .dataframe tbody tr th {\n",
       "        vertical-align: top;\n",
       "    }\n",
       "\n",
       "    .dataframe thead th {\n",
       "        text-align: right;\n",
       "    }\n",
       "</style>\n",
       "<table border=\"1\" class=\"dataframe\">\n",
       "  <thead>\n",
       "    <tr style=\"text-align: right;\">\n",
       "      <th></th>\n",
       "      <th>contract_id</th>\n",
       "      <th>blocked</th>\n",
       "      <th>day_or_month_contract</th>\n",
       "      <th>коичество обращений</th>\n",
       "      <th>url</th>\n",
       "      <th>обращение в службу заботы</th>\n",
       "      <th>Включена_20%_скидка</th>\n",
       "      <th>Возвращение_клиента</th>\n",
       "      <th>Изменение_схемы_оплаты</th>\n",
       "      <th>Предложение_ТВ_пакета</th>\n",
       "      <th>тип обращений</th>\n",
       "      <th>даты_обращений</th>\n",
       "      <th>df_log_time_max</th>\n",
       "      <th>event_date</th>\n",
       "    </tr>\n",
       "  </thead>\n",
       "  <tbody>\n",
       "    <tr>\n",
       "      <th>0</th>\n",
       "      <td>3453</td>\n",
       "      <td>0</td>\n",
       "      <td>0</td>\n",
       "      <td>1.0</td>\n",
       "      <td>NaN</td>\n",
       "      <td>NaN</td>\n",
       "      <td>NaN</td>\n",
       "      <td>NaN</td>\n",
       "      <td>NaN</td>\n",
       "      <td>NaN</td>\n",
       "      <td>Информер ВК. Показ</td>\n",
       "      <td>21-03-03</td>\n",
       "      <td>21-03-03</td>\n",
       "      <td>21-03-03</td>\n",
       "    </tr>\n",
       "    <tr>\n",
       "      <th>1</th>\n",
       "      <td>3454</td>\n",
       "      <td>0</td>\n",
       "      <td>1</td>\n",
       "      <td>1.0</td>\n",
       "      <td>NaN</td>\n",
       "      <td>NaN</td>\n",
       "      <td>NaN</td>\n",
       "      <td>NaN</td>\n",
       "      <td>NaN</td>\n",
       "      <td>NaN</td>\n",
       "      <td>Внутреннее сообщение</td>\n",
       "      <td>21-04-28</td>\n",
       "      <td>21-04-28</td>\n",
       "      <td>21-04-28</td>\n",
       "    </tr>\n",
       "    <tr>\n",
       "      <th>2</th>\n",
       "      <td>3455</td>\n",
       "      <td>0</td>\n",
       "      <td>1</td>\n",
       "      <td>NaN</td>\n",
       "      <td>24.0</td>\n",
       "      <td>NaN</td>\n",
       "      <td>NaN</td>\n",
       "      <td>NaN</td>\n",
       "      <td>NaN</td>\n",
       "      <td>NaN</td>\n",
       "      <td>NaN</td>\n",
       "      <td>NaN</td>\n",
       "      <td>NaN</td>\n",
       "      <td>NaN</td>\n",
       "    </tr>\n",
       "  </tbody>\n",
       "</table>\n",
       "</div>"
      ],
      "text/plain": [
       "   contract_id  blocked  day_or_month_contract  коичество обращений   url  \\\n",
       "0         3453        0                      0                  1.0   NaN   \n",
       "1         3454        0                      1                  1.0   NaN   \n",
       "2         3455        0                      1                  NaN  24.0   \n",
       "\n",
       "   обращение в службу заботы  Включена_20%_скидка  Возвращение_клиента  \\\n",
       "0                        NaN                  NaN                  NaN   \n",
       "1                        NaN                  NaN                  NaN   \n",
       "2                        NaN                  NaN                  NaN   \n",
       "\n",
       "   Изменение_схемы_оплаты  Предложение_ТВ_пакета         тип обращений  \\\n",
       "0                     NaN                    NaN    Информер ВК. Показ   \n",
       "1                     NaN                    NaN  Внутреннее сообщение   \n",
       "2                     NaN                    NaN                   NaN   \n",
       "\n",
       "  даты_обращений df_log_time_max event_date  \n",
       "0       21-03-03        21-03-03   21-03-03  \n",
       "1       21-04-28        21-04-28   21-04-28  \n",
       "2            NaN             NaN        NaN  "
      ]
     },
     "execution_count": 92,
     "metadata": {},
     "output_type": "execute_result"
    }
   ],
   "source": [
    "df_sample = pd.merge(df_sample, df_log_time_min, on=\"contract_id\", how='left')\n",
    "df_sample.head(3)"
   ]
  },
  {
   "cell_type": "code",
   "execution_count": 93,
   "metadata": {},
   "outputs": [],
   "source": [
    "df_sample.rename(columns={'event_date': 'df_log_time_min'}, inplace=True)"
   ]
  },
  {
   "cell_type": "code",
   "execution_count": 94,
   "metadata": {},
   "outputs": [
    {
     "data": {
      "text/html": [
       "<div>\n",
       "<style scoped>\n",
       "    .dataframe tbody tr th:only-of-type {\n",
       "        vertical-align: middle;\n",
       "    }\n",
       "\n",
       "    .dataframe tbody tr th {\n",
       "        vertical-align: top;\n",
       "    }\n",
       "\n",
       "    .dataframe thead th {\n",
       "        text-align: right;\n",
       "    }\n",
       "</style>\n",
       "<table border=\"1\" class=\"dataframe\">\n",
       "  <thead>\n",
       "    <tr style=\"text-align: right;\">\n",
       "      <th></th>\n",
       "      <th>contract_id</th>\n",
       "      <th>blocked</th>\n",
       "      <th>day_or_month_contract</th>\n",
       "      <th>коичество обращений</th>\n",
       "      <th>url</th>\n",
       "      <th>обращение в службу заботы</th>\n",
       "      <th>Включена_20%_скидка</th>\n",
       "      <th>Возвращение_клиента</th>\n",
       "      <th>Изменение_схемы_оплаты</th>\n",
       "      <th>Предложение_ТВ_пакета</th>\n",
       "      <th>тип обращений</th>\n",
       "      <th>даты_обращений</th>\n",
       "      <th>df_log_time_max</th>\n",
       "      <th>df_log_time_min</th>\n",
       "      <th>date</th>\n",
       "    </tr>\n",
       "  </thead>\n",
       "  <tbody>\n",
       "    <tr>\n",
       "      <th>0</th>\n",
       "      <td>3453</td>\n",
       "      <td>0</td>\n",
       "      <td>0</td>\n",
       "      <td>1.0</td>\n",
       "      <td>NaN</td>\n",
       "      <td>NaN</td>\n",
       "      <td>NaN</td>\n",
       "      <td>NaN</td>\n",
       "      <td>NaN</td>\n",
       "      <td>NaN</td>\n",
       "      <td>Информер ВК. Показ</td>\n",
       "      <td>21-03-03</td>\n",
       "      <td>21-03-03</td>\n",
       "      <td>21-03-03</td>\n",
       "      <td>NaN</td>\n",
       "    </tr>\n",
       "    <tr>\n",
       "      <th>1</th>\n",
       "      <td>3454</td>\n",
       "      <td>0</td>\n",
       "      <td>1</td>\n",
       "      <td>1.0</td>\n",
       "      <td>NaN</td>\n",
       "      <td>NaN</td>\n",
       "      <td>NaN</td>\n",
       "      <td>NaN</td>\n",
       "      <td>NaN</td>\n",
       "      <td>NaN</td>\n",
       "      <td>Внутреннее сообщение</td>\n",
       "      <td>21-04-28</td>\n",
       "      <td>21-04-28</td>\n",
       "      <td>21-04-28</td>\n",
       "      <td>NaN</td>\n",
       "    </tr>\n",
       "    <tr>\n",
       "      <th>2</th>\n",
       "      <td>3455</td>\n",
       "      <td>0</td>\n",
       "      <td>1</td>\n",
       "      <td>NaN</td>\n",
       "      <td>24.0</td>\n",
       "      <td>NaN</td>\n",
       "      <td>NaN</td>\n",
       "      <td>NaN</td>\n",
       "      <td>NaN</td>\n",
       "      <td>NaN</td>\n",
       "      <td>NaN</td>\n",
       "      <td>NaN</td>\n",
       "      <td>NaN</td>\n",
       "      <td>NaN</td>\n",
       "      <td>21-04-28</td>\n",
       "    </tr>\n",
       "  </tbody>\n",
       "</table>\n",
       "</div>"
      ],
      "text/plain": [
       "   contract_id  blocked  day_or_month_contract  коичество обращений   url  \\\n",
       "0         3453        0                      0                  1.0   NaN   \n",
       "1         3454        0                      1                  1.0   NaN   \n",
       "2         3455        0                      1                  NaN  24.0   \n",
       "\n",
       "   обращение в службу заботы  Включена_20%_скидка  Возвращение_клиента  \\\n",
       "0                        NaN                  NaN                  NaN   \n",
       "1                        NaN                  NaN                  NaN   \n",
       "2                        NaN                  NaN                  NaN   \n",
       "\n",
       "   Изменение_схемы_оплаты  Предложение_ТВ_пакета         тип обращений  \\\n",
       "0                     NaN                    NaN    Информер ВК. Показ   \n",
       "1                     NaN                    NaN  Внутреннее сообщение   \n",
       "2                     NaN                    NaN                   NaN   \n",
       "\n",
       "  даты_обращений df_log_time_max df_log_time_min      date  \n",
       "0       21-03-03        21-03-03        21-03-03       NaN  \n",
       "1       21-04-28        21-04-28        21-04-28       NaN  \n",
       "2            NaN             NaN             NaN  21-04-28  "
      ]
     },
     "execution_count": 94,
     "metadata": {},
     "output_type": "execute_result"
    }
   ],
   "source": [
    "df_sample = pd.merge(df_sample, df_named_max, on=\"contract_id\", how='left')\n",
    "df_sample.head(3)"
   ]
  },
  {
   "cell_type": "code",
   "execution_count": 95,
   "metadata": {},
   "outputs": [],
   "source": [
    "df_sample.rename(columns={'date': 'df_named_max'}, inplace=True)"
   ]
  },
  {
   "cell_type": "code",
   "execution_count": 96,
   "metadata": {},
   "outputs": [
    {
     "data": {
      "text/html": [
       "<div>\n",
       "<style scoped>\n",
       "    .dataframe tbody tr th:only-of-type {\n",
       "        vertical-align: middle;\n",
       "    }\n",
       "\n",
       "    .dataframe tbody tr th {\n",
       "        vertical-align: top;\n",
       "    }\n",
       "\n",
       "    .dataframe thead th {\n",
       "        text-align: right;\n",
       "    }\n",
       "</style>\n",
       "<table border=\"1\" class=\"dataframe\">\n",
       "  <thead>\n",
       "    <tr style=\"text-align: right;\">\n",
       "      <th></th>\n",
       "      <th>contract_id</th>\n",
       "      <th>blocked</th>\n",
       "      <th>day_or_month_contract</th>\n",
       "      <th>коичество обращений</th>\n",
       "      <th>url</th>\n",
       "      <th>обращение в службу заботы</th>\n",
       "      <th>Включена_20%_скидка</th>\n",
       "      <th>Возвращение_клиента</th>\n",
       "      <th>Изменение_схемы_оплаты</th>\n",
       "      <th>Предложение_ТВ_пакета</th>\n",
       "      <th>тип обращений</th>\n",
       "      <th>даты_обращений</th>\n",
       "      <th>df_log_time_max</th>\n",
       "      <th>df_log_time_min</th>\n",
       "      <th>df_named_max</th>\n",
       "      <th>date</th>\n",
       "    </tr>\n",
       "  </thead>\n",
       "  <tbody>\n",
       "    <tr>\n",
       "      <th>0</th>\n",
       "      <td>3453</td>\n",
       "      <td>0</td>\n",
       "      <td>0</td>\n",
       "      <td>1.0</td>\n",
       "      <td>NaN</td>\n",
       "      <td>NaN</td>\n",
       "      <td>NaN</td>\n",
       "      <td>NaN</td>\n",
       "      <td>NaN</td>\n",
       "      <td>NaN</td>\n",
       "      <td>Информер ВК. Показ</td>\n",
       "      <td>21-03-03</td>\n",
       "      <td>21-03-03</td>\n",
       "      <td>21-03-03</td>\n",
       "      <td>NaN</td>\n",
       "      <td>NaN</td>\n",
       "    </tr>\n",
       "    <tr>\n",
       "      <th>1</th>\n",
       "      <td>3454</td>\n",
       "      <td>0</td>\n",
       "      <td>1</td>\n",
       "      <td>1.0</td>\n",
       "      <td>NaN</td>\n",
       "      <td>NaN</td>\n",
       "      <td>NaN</td>\n",
       "      <td>NaN</td>\n",
       "      <td>NaN</td>\n",
       "      <td>NaN</td>\n",
       "      <td>Внутреннее сообщение</td>\n",
       "      <td>21-04-28</td>\n",
       "      <td>21-04-28</td>\n",
       "      <td>21-04-28</td>\n",
       "      <td>NaN</td>\n",
       "      <td>NaN</td>\n",
       "    </tr>\n",
       "    <tr>\n",
       "      <th>2</th>\n",
       "      <td>3455</td>\n",
       "      <td>0</td>\n",
       "      <td>1</td>\n",
       "      <td>NaN</td>\n",
       "      <td>24.0</td>\n",
       "      <td>NaN</td>\n",
       "      <td>NaN</td>\n",
       "      <td>NaN</td>\n",
       "      <td>NaN</td>\n",
       "      <td>NaN</td>\n",
       "      <td>NaN</td>\n",
       "      <td>NaN</td>\n",
       "      <td>NaN</td>\n",
       "      <td>NaN</td>\n",
       "      <td>21-04-28</td>\n",
       "      <td>21-04-01</td>\n",
       "    </tr>\n",
       "  </tbody>\n",
       "</table>\n",
       "</div>"
      ],
      "text/plain": [
       "   contract_id  blocked  day_or_month_contract  коичество обращений   url  \\\n",
       "0         3453        0                      0                  1.0   NaN   \n",
       "1         3454        0                      1                  1.0   NaN   \n",
       "2         3455        0                      1                  NaN  24.0   \n",
       "\n",
       "   обращение в службу заботы  Включена_20%_скидка  Возвращение_клиента  \\\n",
       "0                        NaN                  NaN                  NaN   \n",
       "1                        NaN                  NaN                  NaN   \n",
       "2                        NaN                  NaN                  NaN   \n",
       "\n",
       "   Изменение_схемы_оплаты  Предложение_ТВ_пакета         тип обращений  \\\n",
       "0                     NaN                    NaN    Информер ВК. Показ   \n",
       "1                     NaN                    NaN  Внутреннее сообщение   \n",
       "2                     NaN                    NaN                   NaN   \n",
       "\n",
       "  даты_обращений df_log_time_max df_log_time_min df_named_max      date  \n",
       "0       21-03-03        21-03-03        21-03-03          NaN       NaN  \n",
       "1       21-04-28        21-04-28        21-04-28          NaN       NaN  \n",
       "2            NaN             NaN             NaN     21-04-28  21-04-01  "
      ]
     },
     "execution_count": 96,
     "metadata": {},
     "output_type": "execute_result"
    }
   ],
   "source": [
    "df_sample = pd.merge(df_sample, df_named_min, on=\"contract_id\", how='left')\n",
    "df_sample.head(3)"
   ]
  },
  {
   "cell_type": "code",
   "execution_count": 97,
   "metadata": {},
   "outputs": [],
   "source": [
    "df_sample.rename(columns={'date': 'df_named_min'}, inplace=True)"
   ]
  },
  {
   "cell_type": "code",
   "execution_count": 98,
   "metadata": {},
   "outputs": [],
   "source": [
    "df_sample = df_sample.fillna(0)"
   ]
  },
  {
   "cell_type": "code",
   "execution_count": 99,
   "metadata": {},
   "outputs": [],
   "source": [
    "df_sample['1'] = (pd.to_datetime(df_sample['df_named_max'], format='%y-%m-%d', errors='coerce') - pd.to_datetime(df_sample['df_named_min'], format='%y-%m-%d', errors='coerce'))\n",
    "df_sample['2'] = (pd.to_datetime(df_sample['df_log_time_max'], format='%y-%m-%d', errors='coerce') - pd.to_datetime(df_sample['df_log_time_min'], format='%y-%m-%d', errors='coerce'))"
   ]
  },
  {
   "cell_type": "code",
   "execution_count": 100,
   "metadata": {},
   "outputs": [],
   "source": [
    "df_sample['1'] = df_sample['1'].dt.days\n",
    "df_sample['2'] = df_sample['2'].dt.days"
   ]
  },
  {
   "cell_type": "code",
   "execution_count": 101,
   "metadata": {},
   "outputs": [],
   "source": [
    "df_sample['3'] = (pd.to_datetime(df_sample['df_log_time_max'], format='%y-%m-%d', errors='coerce') - pd.to_datetime(df_sample['df_named_max'], format='%y-%m-%d', errors='coerce'))\n",
    "df_sample['4'] = (pd.to_datetime(df_sample['df_log_time_min'], format='%y-%m-%d', errors='coerce') - pd.to_datetime(df_sample['df_named_min'], format='%y-%m-%d', errors='coerce'))"
   ]
  },
  {
   "cell_type": "code",
   "execution_count": 102,
   "metadata": {},
   "outputs": [],
   "source": [
    "df_sample['3'] = df_sample['3'].dt.days\n",
    "df_sample['4'] = df_sample['4'].dt.days"
   ]
  },
  {
   "cell_type": "code",
   "execution_count": 103,
   "metadata": {},
   "outputs": [
    {
     "data": {
      "text/html": [
       "<div>\n",
       "<style scoped>\n",
       "    .dataframe tbody tr th:only-of-type {\n",
       "        vertical-align: middle;\n",
       "    }\n",
       "\n",
       "    .dataframe tbody tr th {\n",
       "        vertical-align: top;\n",
       "    }\n",
       "\n",
       "    .dataframe thead th {\n",
       "        text-align: right;\n",
       "    }\n",
       "</style>\n",
       "<table border=\"1\" class=\"dataframe\">\n",
       "  <thead>\n",
       "    <tr style=\"text-align: right;\">\n",
       "      <th></th>\n",
       "      <th>contract_id</th>\n",
       "      <th>blocked</th>\n",
       "      <th>day_or_month_contract</th>\n",
       "      <th>коичество обращений</th>\n",
       "      <th>url</th>\n",
       "      <th>обращение в службу заботы</th>\n",
       "      <th>Включена_20%_скидка</th>\n",
       "      <th>Возвращение_клиента</th>\n",
       "      <th>Изменение_схемы_оплаты</th>\n",
       "      <th>Предложение_ТВ_пакета</th>\n",
       "      <th>тип обращений</th>\n",
       "      <th>даты_обращений</th>\n",
       "      <th>df_log_time_max</th>\n",
       "      <th>df_log_time_min</th>\n",
       "      <th>df_named_max</th>\n",
       "      <th>df_named_min</th>\n",
       "      <th>1</th>\n",
       "      <th>2</th>\n",
       "      <th>3</th>\n",
       "      <th>4</th>\n",
       "    </tr>\n",
       "  </thead>\n",
       "  <tbody>\n",
       "    <tr>\n",
       "      <th>0</th>\n",
       "      <td>3453</td>\n",
       "      <td>0</td>\n",
       "      <td>0</td>\n",
       "      <td>1.0</td>\n",
       "      <td>0.0</td>\n",
       "      <td>0.0</td>\n",
       "      <td>0.0</td>\n",
       "      <td>0.0</td>\n",
       "      <td>0.0</td>\n",
       "      <td>0.0</td>\n",
       "      <td>Информер ВК. Показ</td>\n",
       "      <td>21-03-03</td>\n",
       "      <td>21-03-03</td>\n",
       "      <td>21-03-03</td>\n",
       "      <td>0</td>\n",
       "      <td>0</td>\n",
       "      <td>NaN</td>\n",
       "      <td>0.0</td>\n",
       "      <td>NaN</td>\n",
       "      <td>NaN</td>\n",
       "    </tr>\n",
       "    <tr>\n",
       "      <th>1</th>\n",
       "      <td>3454</td>\n",
       "      <td>0</td>\n",
       "      <td>1</td>\n",
       "      <td>1.0</td>\n",
       "      <td>0.0</td>\n",
       "      <td>0.0</td>\n",
       "      <td>0.0</td>\n",
       "      <td>0.0</td>\n",
       "      <td>0.0</td>\n",
       "      <td>0.0</td>\n",
       "      <td>Внутреннее сообщение</td>\n",
       "      <td>21-04-28</td>\n",
       "      <td>21-04-28</td>\n",
       "      <td>21-04-28</td>\n",
       "      <td>0</td>\n",
       "      <td>0</td>\n",
       "      <td>NaN</td>\n",
       "      <td>0.0</td>\n",
       "      <td>NaN</td>\n",
       "      <td>NaN</td>\n",
       "    </tr>\n",
       "    <tr>\n",
       "      <th>2</th>\n",
       "      <td>3455</td>\n",
       "      <td>0</td>\n",
       "      <td>1</td>\n",
       "      <td>0.0</td>\n",
       "      <td>24.0</td>\n",
       "      <td>0.0</td>\n",
       "      <td>0.0</td>\n",
       "      <td>0.0</td>\n",
       "      <td>0.0</td>\n",
       "      <td>0.0</td>\n",
       "      <td>0</td>\n",
       "      <td>0</td>\n",
       "      <td>0</td>\n",
       "      <td>0</td>\n",
       "      <td>21-04-28</td>\n",
       "      <td>21-04-01</td>\n",
       "      <td>27.0</td>\n",
       "      <td>NaN</td>\n",
       "      <td>NaN</td>\n",
       "      <td>NaN</td>\n",
       "    </tr>\n",
       "  </tbody>\n",
       "</table>\n",
       "</div>"
      ],
      "text/plain": [
       "   contract_id  blocked  day_or_month_contract  коичество обращений   url  \\\n",
       "0         3453        0                      0                  1.0   0.0   \n",
       "1         3454        0                      1                  1.0   0.0   \n",
       "2         3455        0                      1                  0.0  24.0   \n",
       "\n",
       "   обращение в службу заботы  Включена_20%_скидка  Возвращение_клиента  \\\n",
       "0                        0.0                  0.0                  0.0   \n",
       "1                        0.0                  0.0                  0.0   \n",
       "2                        0.0                  0.0                  0.0   \n",
       "\n",
       "   Изменение_схемы_оплаты  Предложение_ТВ_пакета         тип обращений  \\\n",
       "0                     0.0                    0.0    Информер ВК. Показ   \n",
       "1                     0.0                    0.0  Внутреннее сообщение   \n",
       "2                     0.0                    0.0                     0   \n",
       "\n",
       "  даты_обращений df_log_time_max df_log_time_min df_named_max df_named_min  \\\n",
       "0       21-03-03        21-03-03        21-03-03            0            0   \n",
       "1       21-04-28        21-04-28        21-04-28            0            0   \n",
       "2              0               0               0     21-04-28     21-04-01   \n",
       "\n",
       "      1    2   3   4  \n",
       "0   NaN  0.0 NaN NaN  \n",
       "1   NaN  0.0 NaN NaN  \n",
       "2  27.0  NaN NaN NaN  "
      ]
     },
     "execution_count": 103,
     "metadata": {},
     "output_type": "execute_result"
    }
   ],
   "source": [
    "df_sample.head(3)"
   ]
  },
  {
   "cell_type": "code",
   "execution_count": 104,
   "metadata": {},
   "outputs": [],
   "source": [
    "X_test_sample = df_sample.drop([\"contract_id\", \"blocked\"], axis = 1)"
   ]
  },
  {
   "cell_type": "code",
   "execution_count": null,
   "metadata": {},
   "outputs": [],
   "source": []
  },
  {
   "cell_type": "code",
   "execution_count": 105,
   "metadata": {},
   "outputs": [],
   "source": [
    "pred = clf.predict(X_test_sample)"
   ]
  },
  {
   "cell_type": "code",
   "execution_count": 106,
   "metadata": {},
   "outputs": [],
   "source": [
    "df_sample_solution['blocked'] = pred"
   ]
  },
  {
   "cell_type": "code",
   "execution_count": 107,
   "metadata": {},
   "outputs": [
    {
     "data": {
      "text/plain": [
       "0    603\n",
       "1    207\n",
       "Name: blocked, dtype: int64"
      ]
     },
     "execution_count": 107,
     "metadata": {},
     "output_type": "execute_result"
    }
   ],
   "source": [
    "df_sample_solution['blocked'].value_counts()"
   ]
  },
  {
   "cell_type": "code",
   "execution_count": 108,
   "metadata": {},
   "outputs": [
    {
     "data": {
      "text/html": [
       "<div>\n",
       "<style scoped>\n",
       "    .dataframe tbody tr th:only-of-type {\n",
       "        vertical-align: middle;\n",
       "    }\n",
       "\n",
       "    .dataframe tbody tr th {\n",
       "        vertical-align: top;\n",
       "    }\n",
       "\n",
       "    .dataframe thead th {\n",
       "        text-align: right;\n",
       "    }\n",
       "</style>\n",
       "<table border=\"1\" class=\"dataframe\">\n",
       "  <thead>\n",
       "    <tr style=\"text-align: right;\">\n",
       "      <th></th>\n",
       "      <th>contract_id</th>\n",
       "      <th>blocked</th>\n",
       "    </tr>\n",
       "  </thead>\n",
       "  <tbody>\n",
       "    <tr>\n",
       "      <th>0</th>\n",
       "      <td>3453</td>\n",
       "      <td>1</td>\n",
       "    </tr>\n",
       "    <tr>\n",
       "      <th>1</th>\n",
       "      <td>3454</td>\n",
       "      <td>0</td>\n",
       "    </tr>\n",
       "    <tr>\n",
       "      <th>2</th>\n",
       "      <td>3455</td>\n",
       "      <td>0</td>\n",
       "    </tr>\n",
       "    <tr>\n",
       "      <th>3</th>\n",
       "      <td>3456</td>\n",
       "      <td>1</td>\n",
       "    </tr>\n",
       "    <tr>\n",
       "      <th>4</th>\n",
       "      <td>3457</td>\n",
       "      <td>0</td>\n",
       "    </tr>\n",
       "  </tbody>\n",
       "</table>\n",
       "</div>"
      ],
      "text/plain": [
       "   contract_id  blocked\n",
       "0         3453        1\n",
       "1         3454        0\n",
       "2         3455        0\n",
       "3         3456        1\n",
       "4         3457        0"
      ]
     },
     "execution_count": 108,
     "metadata": {},
     "output_type": "execute_result"
    }
   ],
   "source": [
    "df_sample_solution.head()"
   ]
  },
  {
   "cell_type": "code",
   "execution_count": 109,
   "metadata": {},
   "outputs": [],
   "source": [
    "df_sample_solution.set_index('contract_id', inplace = True)"
   ]
  },
  {
   "cell_type": "code",
   "execution_count": 110,
   "metadata": {},
   "outputs": [],
   "source": [
    "df_sample_solution.to_csv(\"sample_submission1.csv\")"
   ]
  },
  {
   "cell_type": "code",
   "execution_count": null,
   "metadata": {},
   "outputs": [],
   "source": []
  },
  {
   "cell_type": "code",
   "execution_count": null,
   "metadata": {},
   "outputs": [],
   "source": []
  }
 ],
 "metadata": {
  "colab": {
   "name": "Ситилинк_baseline.ipynb",
   "provenance": []
  },
  "kernelspec": {
   "display_name": "Python 3",
   "language": "python",
   "name": "python3"
  },
  "language_info": {
   "codemirror_mode": {
    "name": "ipython",
    "version": 3
   },
   "file_extension": ".py",
   "mimetype": "text/x-python",
   "name": "python",
   "nbconvert_exporter": "python",
   "pygments_lexer": "ipython3",
   "version": "3.8.8"
  }
 },
 "nbformat": 4,
 "nbformat_minor": 1
}
